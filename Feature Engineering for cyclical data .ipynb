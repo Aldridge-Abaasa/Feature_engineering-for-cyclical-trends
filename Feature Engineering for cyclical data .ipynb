{
 "cells": [
  {
   "cell_type": "code",
   "execution_count": null,
   "id": "7782ee2e",
   "metadata": {
    "pycharm": {
     "is_executing": true
    }
   },
   "outputs": [],
   "source": [
    "import pandas as pd\n",
    "import numpy as np\n",
    "import seaborn as sns\n",
    "import matplotlib.pyplot as plt\n",
    "import plotly.express as px\n",
    "import datetime as dt\n",
    "import calendar\n",
    "\n",
    "from datetime import datetime\n",
    "from scipy.stats import norm, skew\n",
    "from pandas.plotting import scatter_matrix\n",
    "from sklearn.preprocessing import StandardScaler\n",
    "from sklearn.impute import SimpleImputer\n",
    "from sklearn.preprocessing import OneHotEncoder, StandardScaler\n",
    "from sklearn.compose import make_column_selector as selector\n",
    "from sklearn.compose import ColumnTransformer\n",
    "from sklearn.pipeline import Pipeline, make_pipeline\n",
    "from sklearn.preprocessing import LabelEncoder\n",
    "from sklearn.model_selection import train_test_split\n",
    "from sklearn.model_selection import cross_validate\n",
    "from sklearn import linear_model\n",
    "from sklearn.linear_model import LinearRegression, SGDRegressor\n",
    "from sklearn.metrics import mean_squared_error, r2_score, f1_score, accuracy_score, ConfusionMatrixDisplay"
   ]
  },
  {
   "cell_type": "markdown",
   "id": "25094ced",
   "metadata": {},
   "source": [
    "### Feature Engineering Project on traffic Data\n",
    "#### Generate effective features for predicting traffic volumes from data available a day in advance.\n",
    "\n",
    "######  From this dataset, six main features are present, date_time = DateTime Hour of the data collected in local CST time, rain_1h=Numeric Amount in mm of rain that occurred in the hour, snow_1h = Numeric Amount in mm of snow that occurred in the hour, temp = Numeric Average temp in kelvin, clouds_all= Numeric Percentage of cloud cover and traffic_volume =  Numeric ( The target feature for the dataset. "
   ]
  },
  {
   "cell_type": "markdown",
   "id": "4ca9093c",
   "metadata": {},
   "source": [
    "##### Step 1:  \n",
    "######  Load the dataset into a dataframe that can be used for predicting  traffic_volume a day in advance:\n"
   ]
  },
  {
   "cell_type": "code",
   "execution_count": 4,
   "id": "ca2f7c4d",
   "metadata": {
    "scrolled": true
   },
   "outputs": [
    {
     "name": "stdout",
     "output_type": "stream",
     "text": [
      "(32047, 6) date_time          object\n",
      "rain_1h           float64\n",
      "snow_1h           float64\n",
      "temp              float64\n",
      "clouds_all          int64\n",
      "traffic_volume      int64\n",
      "dtype: object\n"
     ]
    },
    {
     "data": {
      "text/html": [
       "<div>\n",
       "<style scoped>\n",
       "    .dataframe tbody tr th:only-of-type {\n",
       "        vertical-align: middle;\n",
       "    }\n",
       "\n",
       "    .dataframe tbody tr th {\n",
       "        vertical-align: top;\n",
       "    }\n",
       "\n",
       "    .dataframe thead th {\n",
       "        text-align: right;\n",
       "    }\n",
       "</style>\n",
       "<table border=\"1\" class=\"dataframe\">\n",
       "  <thead>\n",
       "    <tr style=\"text-align: right;\">\n",
       "      <th></th>\n",
       "      <th>date_time</th>\n",
       "      <th>rain_1h</th>\n",
       "      <th>snow_1h</th>\n",
       "      <th>temp</th>\n",
       "      <th>clouds_all</th>\n",
       "      <th>traffic_volume</th>\n",
       "    </tr>\n",
       "  </thead>\n",
       "  <tbody>\n",
       "    <tr>\n",
       "      <th>0</th>\n",
       "      <td>2015-07-01 00:00:00</td>\n",
       "      <td>0.0</td>\n",
       "      <td>0.0</td>\n",
       "      <td>289.20</td>\n",
       "      <td>1</td>\n",
       "      <td>737</td>\n",
       "    </tr>\n",
       "    <tr>\n",
       "      <th>1</th>\n",
       "      <td>2015-07-01 01:00:00</td>\n",
       "      <td>0.0</td>\n",
       "      <td>0.0</td>\n",
       "      <td>289.40</td>\n",
       "      <td>1</td>\n",
       "      <td>444</td>\n",
       "    </tr>\n",
       "    <tr>\n",
       "      <th>2</th>\n",
       "      <td>2015-07-01 02:00:00</td>\n",
       "      <td>0.0</td>\n",
       "      <td>0.0</td>\n",
       "      <td>289.19</td>\n",
       "      <td>1</td>\n",
       "      <td>347</td>\n",
       "    </tr>\n",
       "  </tbody>\n",
       "</table>\n",
       "</div>"
      ],
      "text/plain": [
       "             date_time  rain_1h  snow_1h    temp  clouds_all  traffic_volume\n",
       "0  2015-07-01 00:00:00      0.0      0.0  289.20           1             737\n",
       "1  2015-07-01 01:00:00      0.0      0.0  289.40           1             444\n",
       "2  2015-07-01 02:00:00      0.0      0.0  289.19           1             347"
      ]
     },
     "execution_count": 4,
     "metadata": {},
     "output_type": "execute_result"
    }
   ],
   "source": [
    "metro_traffic = pd.read_csv('metro_traffic_15_19.csv')\n",
    "print(metro_traffic.shape, metro_traffic.dtypes)\n",
    "metro_traffic.head(3)"
   ]
  },
  {
   "cell_type": "code",
   "execution_count": 3,
   "id": "ae58252f",
   "metadata": {
    "scrolled": true
   },
   "outputs": [
    {
     "name": "stdout",
     "output_type": "stream",
     "text": [
      "<class 'pandas.core.frame.DataFrame'>\n",
      "RangeIndex: 32047 entries, 0 to 32046\n",
      "Data columns (total 6 columns):\n",
      " #   Column          Non-Null Count  Dtype  \n",
      "---  ------          --------------  -----  \n",
      " 0   date_time       32047 non-null  object \n",
      " 1   rain_1h         32047 non-null  float64\n",
      " 2   snow_1h         32047 non-null  float64\n",
      " 3   temp            32047 non-null  float64\n",
      " 4   clouds_all      32047 non-null  int64  \n",
      " 5   traffic_volume  32047 non-null  int64  \n",
      "dtypes: float64(3), int64(2), object(1)\n",
      "memory usage: 1.5+ MB\n",
      "None\n"
     ]
    },
    {
     "data": {
      "text/html": [
       "<div>\n",
       "<style scoped>\n",
       "    .dataframe tbody tr th:only-of-type {\n",
       "        vertical-align: middle;\n",
       "    }\n",
       "\n",
       "    .dataframe tbody tr th {\n",
       "        vertical-align: top;\n",
       "    }\n",
       "\n",
       "    .dataframe thead th {\n",
       "        text-align: right;\n",
       "    }\n",
       "</style>\n",
       "<table border=\"1\" class=\"dataframe\">\n",
       "  <thead>\n",
       "    <tr style=\"text-align: right;\">\n",
       "      <th></th>\n",
       "      <th>rain_1h</th>\n",
       "      <th>snow_1h</th>\n",
       "      <th>temp</th>\n",
       "      <th>clouds_all</th>\n",
       "      <th>traffic_volume</th>\n",
       "    </tr>\n",
       "  </thead>\n",
       "  <tbody>\n",
       "    <tr>\n",
       "      <th>count</th>\n",
       "      <td>32047.000000</td>\n",
       "      <td>32047.000000</td>\n",
       "      <td>32047.000000</td>\n",
       "      <td>32047.000000</td>\n",
       "      <td>32047.000000</td>\n",
       "    </tr>\n",
       "    <tr>\n",
       "      <th>mean</th>\n",
       "      <td>0.419653</td>\n",
       "      <td>0.000335</td>\n",
       "      <td>282.892641</td>\n",
       "      <td>47.403782</td>\n",
       "      <td>3258.209910</td>\n",
       "    </tr>\n",
       "    <tr>\n",
       "      <th>std</th>\n",
       "      <td>54.924907</td>\n",
       "      <td>0.010015</td>\n",
       "      <td>12.123625</td>\n",
       "      <td>39.730094</td>\n",
       "      <td>1974.058455</td>\n",
       "    </tr>\n",
       "    <tr>\n",
       "      <th>min</th>\n",
       "      <td>0.000000</td>\n",
       "      <td>0.000000</td>\n",
       "      <td>243.390000</td>\n",
       "      <td>0.000000</td>\n",
       "      <td>0.000000</td>\n",
       "    </tr>\n",
       "    <tr>\n",
       "      <th>25%</th>\n",
       "      <td>0.000000</td>\n",
       "      <td>0.000000</td>\n",
       "      <td>273.880000</td>\n",
       "      <td>1.000000</td>\n",
       "      <td>1196.000000</td>\n",
       "    </tr>\n",
       "    <tr>\n",
       "      <th>50%</th>\n",
       "      <td>0.000000</td>\n",
       "      <td>0.000000</td>\n",
       "      <td>285.080000</td>\n",
       "      <td>40.000000</td>\n",
       "      <td>3412.000000</td>\n",
       "    </tr>\n",
       "    <tr>\n",
       "      <th>75%</th>\n",
       "      <td>0.000000</td>\n",
       "      <td>0.000000</td>\n",
       "      <td>292.700000</td>\n",
       "      <td>90.000000</td>\n",
       "      <td>4912.000000</td>\n",
       "    </tr>\n",
       "    <tr>\n",
       "      <th>max</th>\n",
       "      <td>9831.300000</td>\n",
       "      <td>0.510000</td>\n",
       "      <td>310.070000</td>\n",
       "      <td>100.000000</td>\n",
       "      <td>7280.000000</td>\n",
       "    </tr>\n",
       "  </tbody>\n",
       "</table>\n",
       "</div>"
      ],
      "text/plain": [
       "            rain_1h       snow_1h          temp    clouds_all  traffic_volume\n",
       "count  32047.000000  32047.000000  32047.000000  32047.000000    32047.000000\n",
       "mean       0.419653      0.000335    282.892641     47.403782     3258.209910\n",
       "std       54.924907      0.010015     12.123625     39.730094     1974.058455\n",
       "min        0.000000      0.000000    243.390000      0.000000        0.000000\n",
       "25%        0.000000      0.000000    273.880000      1.000000     1196.000000\n",
       "50%        0.000000      0.000000    285.080000     40.000000     3412.000000\n",
       "75%        0.000000      0.000000    292.700000     90.000000     4912.000000\n",
       "max     9831.300000      0.510000    310.070000    100.000000     7280.000000"
      ]
     },
     "execution_count": 3,
     "metadata": {},
     "output_type": "execute_result"
    }
   ],
   "source": [
    "print(metro_traffic.info())\n",
    "# we have no missing values in this dataset\n",
    "\n",
    "metro_traffic.describe()"
   ]
  },
  {
   "cell_type": "markdown",
   "id": "107c335f",
   "metadata": {},
   "source": [
    "##### Preprocessing the dataset is vital to ensure that the features extracted can perform well inregards to predicting the traffic volume a day inadvance (Note: more can be done to employ unique approaches here).\n",
    "\n",
    "###### My initial approach is to find and eliminate any outliers that may affect the prediction models."
   ]
  },
  {
   "cell_type": "code",
   "execution_count": 4,
   "id": "aae0b007",
   "metadata": {
    "scrolled": true
   },
   "outputs": [
    {
     "data": {
      "image/png": "[encoded data removed]",
      "text/plain": [
       "<Figure size 360x216 with 1 Axes>"
      ]
     },
     "metadata": {
      "needs_background": "light"
     },
     "output_type": "display_data"
    },
    {
     "name": "stdout",
     "output_type": "stream",
     "text": [
      "Skewness: -0.108006\n",
      "Kurtosis: -1.310084\n"
     ]
    },
    {
     "name": "stderr",
     "output_type": "stream",
     "text": [
      "C:\\Users\\L470\\anaconda3\\lib\\site-packages\\seaborn\\distributions.py:2619: FutureWarning: `distplot` is a deprecated function and will be removed in a future version. Please adapt your code to use either `displot` (a figure-level function with similar flexibility) or `histplot` (an axes-level function for histograms).\n",
      "  warnings.warn(msg, FutureWarning)\n"
     ]
    },
    {
     "data": {
      "image/png": "[encoded data removed]",
      "text/plain": [
       "<Figure size 360x216 with 1 Axes>"
      ]
     },
     "metadata": {
      "needs_background": "light"
     },
     "output_type": "display_data"
    },
    {
     "name": "stderr",
     "output_type": "stream",
     "text": [
      "C:\\Users\\L470\\anaconda3\\lib\\site-packages\\seaborn\\_decorators.py:36: FutureWarning: Pass the following variable as a keyword arg: x. From version 0.12, the only valid positional argument will be `data`, and passing other arguments without an explicit keyword will result in an error or misinterpretation.\n",
      "  warnings.warn(\n"
     ]
    },
    {
     "data": {
      "image/png": "[encoded data removed]",
      "text/plain": [
       "<Figure size 216x360 with 1 Axes>"
      ]
     },
     "metadata": {
      "needs_background": "light"
     },
     "output_type": "display_data"
    }
   ],
   "source": [
    "# Searching for  outliers:\n",
    "attribute = 'traffic_volume'\n",
    "plt.figure(figsize=(5,3))\n",
    "plt.hist(metro_traffic[attribute], bins=20, color='peru')\n",
    "plt.xlabel(attribute)\n",
    "plt.ylabel('# of Data Points')\n",
    "plt.grid(True)\n",
    "plt.show()\n",
    "\n",
    "print(\"Skewness: %f\" % metro_traffic['traffic_volume'].skew())\n",
    "print(\"Kurtosis: %f\" % metro_traffic['traffic_volume'].kurt())\n",
    "\n",
    "plt.figure(figsize=(5,3))\n",
    "sns.distplot(metro_traffic['traffic_volume'], kde=True, fit=norm)\n",
    "plt.show()\n",
    "\n",
    "plt.figure(figsize=(3,5))\n",
    "sns.boxplot('traffic_volume', data = metro_traffic)\n",
    "plt.show()\n",
    "#No outliers found."
   ]
  },
  {
   "cell_type": "code",
   "execution_count": 5,
   "id": "dabe2a9a",
   "metadata": {
    "scrolled": true
   },
   "outputs": [
    {
     "name": "stderr",
     "output_type": "stream",
     "text": [
      "C:\\Users\\L470\\anaconda3\\lib\\site-packages\\seaborn\\_decorators.py:36: FutureWarning: Pass the following variable as a keyword arg: x. From version 0.12, the only valid positional argument will be `data`, and passing other arguments without an explicit keyword will result in an error or misinterpretation.\n",
      "  warnings.warn(\n"
     ]
    },
    {
     "data": {
      "image/png": "[encoded data removed]",
      "text/plain": [
       "<Figure size 360x216 with 1 Axes>"
      ]
     },
     "metadata": {
      "needs_background": "light"
     },
     "output_type": "display_data"
    },
    {
     "name": "stdout",
     "output_type": "stream",
     "text": [
      "Skewness: -0.469473\n",
      "Kurtosis: -0.516241\n"
     ]
    }
   ],
   "source": [
    "metro_traffic['temp'] = (metro_traffic['temp']-273.15) # Adjusting Temp measurement to celsius from kelvin 0k - 273.15\n",
    "\n",
    "attribute = 'temp'\n",
    "# plt.figure(figsize=(8,6))\n",
    "# plt.hist(metro_traffic[attribute], bins=20, color='peru')\n",
    "# plt.xlabel(attribute)\n",
    "# plt.ylabel('# of Data Points')\n",
    "# plt.grid(True)\n",
    "# plt.show()\n",
    "\n",
    "\n",
    "# plot distribution of temp from the data\n",
    "plt.figure(figsize=(5,3))\n",
    "sns.boxplot('temp', data = metro_traffic)\n",
    "plt.show()\n",
    "\n",
    "print(\"Skewness: %f\" % metro_traffic['temp'].skew())\n",
    "print(\"Kurtosis: %f\" % metro_traffic['temp'].kurt())\n",
    "\n",
    "# plt.figure(figsize=(8,6))\n",
    "# sns.distplot(metro_traffic['temp'], kde=True, fit=norm)\n",
    "# plt.show()\n",
    "\n",
    "# Outliers found in the temp column, The outliers are at the lower end of the box plot . Hence this could skew the data to the left."
   ]
  },
  {
   "cell_type": "code",
   "execution_count": 6,
   "id": "5ed55f6c",
   "metadata": {},
   "outputs": [
    {
     "data": {
      "image/png": "[encoded data removed]",
      "text/plain": [
       "<Figure size 360x216 with 1 Axes>"
      ]
     },
     "metadata": {
      "needs_background": "light"
     },
     "output_type": "display_data"
    },
    {
     "name": "stdout",
     "output_type": "stream",
     "text": [
      "Skewness: -0.101781\n",
      "Kurtosis: -1.804238\n"
     ]
    }
   ],
   "source": [
    "attribute = 'clouds_all'\n",
    "plt.figure(figsize=(5,3))\n",
    "plt.hist(metro_traffic[attribute], bins=20, color='peru')\n",
    "plt.xlabel(attribute)\n",
    "plt.ylabel('# of Data Points')\n",
    "plt.grid(True)\n",
    "plt.show()\n",
    "\n",
    "print(\"Skewness: %f\" % metro_traffic['clouds_all'].skew())\n",
    "print(\"Kurtosis: %f\" % metro_traffic['clouds_all'].kurt())\n",
    "# This column represents the cloud coverage in percentage (this might have to be converted to categorical data)"
   ]
  },
  {
   "cell_type": "code",
   "execution_count": 7,
   "id": "3d085f01",
   "metadata": {},
   "outputs": [
    {
     "name": "stderr",
     "output_type": "stream",
     "text": [
      "C:\\Users\\L470\\anaconda3\\lib\\site-packages\\seaborn\\_decorators.py:36: FutureWarning: Pass the following variable as a keyword arg: x. From version 0.12, the only valid positional argument will be `data`, and passing other arguments without an explicit keyword will result in an error or misinterpretation.\n",
      "  warnings.warn(\n"
     ]
    },
    {
     "data": {
      "image/png": "[encoded data removed]",
      "text/plain": [
       "<Figure size 432x216 with 1 Axes>"
      ]
     },
     "metadata": {
      "needs_background": "light"
     },
     "output_type": "display_data"
    },
    {
     "name": "stdout",
     "output_type": "stream",
     "text": [
      "Skewness: 178.946283\n",
      "Kurtosis: 32030.162324\n"
     ]
    }
   ],
   "source": [
    "attribute = 'rain_1h'\n",
    "\n",
    "plt.figure(figsize=(6,3))\n",
    "sns.boxplot('rain_1h', data = metro_traffic)\n",
    "plt.show()\n",
    "\n",
    "print(\"Skewness: %f\" % metro_traffic['rain_1h'].skew())\n",
    "print(\"Kurtosis: %f\" % metro_traffic['rain_1h'].kurt())\n",
    "\n",
    "#This column does have outliers that are extremely far from the upper limit hence it is highly skewed to its right . ( this will be best represented in a binary form)"
   ]
  },
  {
   "cell_type": "code",
   "execution_count": 8,
   "id": "e448905e",
   "metadata": {},
   "outputs": [
    {
     "name": "stderr",
     "output_type": "stream",
     "text": [
      "C:\\Users\\L470\\anaconda3\\lib\\site-packages\\seaborn\\_decorators.py:36: FutureWarning: Pass the following variable as a keyword arg: x. From version 0.12, the only valid positional argument will be `data`, and passing other arguments without an explicit keyword will result in an error or misinterpretation.\n",
      "  warnings.warn(\n"
     ]
    },
    {
     "data": {
      "image/png": "[encoded data removed]",
      "text/plain": [
       "<Figure size 432x216 with 1 Axes>"
      ]
     },
     "metadata": {
      "needs_background": "light"
     },
     "output_type": "display_data"
    },
    {
     "name": "stdout",
     "output_type": "stream",
     "text": [
      "Skewness: 39.426320\n",
      "Kurtosis: 1740.762695\n"
     ]
    }
   ],
   "source": [
    "attribute = 'snow_1h'\n",
    "\n",
    "plt.figure(figsize=(6,3))\n",
    "sns.boxplot('snow_1h', data = metro_traffic)\n",
    "plt.show()\n",
    "\n",
    "print(\"Skewness: %f\" % metro_traffic['snow_1h'].skew())\n",
    "print(\"Kurtosis: %f\" % metro_traffic['snow_1h'].kurt())\n",
    "# Similarly to the rain_1h column this  column does have values far from its upper limit  and it is highly skewed to its right . (Convert column to categorical with a Binary approach as well)"
   ]
  },
  {
   "cell_type": "code",
   "execution_count": 9,
   "id": "90e42f4c",
   "metadata": {
    "scrolled": false
   },
   "outputs": [
    {
     "data": {
      "image/png": "[encoded data removed]",
      "text/plain": [
       "<Figure size 504x288 with 1 Axes>"
      ]
     },
     "metadata": {
      "needs_background": "light"
     },
     "output_type": "display_data"
    }
   ],
   "source": [
    "plt.figure(figsize=(7,4))\n",
    "sns.barplot(x='clouds_all', y = 'traffic_volume', data = metro_traffic)\n",
    "plt.show()"
   ]
  },
  {
   "cell_type": "markdown",
   "id": "71f650f9",
   "metadata": {},
   "source": [
    "###### The next approach is to ensure that the features; rain_1h, snow_1h and cloud_all are converted to categorical features as this will ensure they make more effective features. \n",
    "\n",
    "###### Since rain_1h and snow_1h are very close to zero( both are extremely skewed, partly due to the outliers; converting them to categorical features with a binary output ( for example rained, no rain) has been opted for.\n",
    "\n",
    "###### Whilst for the cloud_all column ( proportion of cloud coverage) will be converted to a categorical variable as well. This will have 5 categories of cloud cover. This approach will ensure that large percentage scales do not affect the model."
   ]
  },
  {
   "cell_type": "code",
   "execution_count": 10,
   "id": "0989f37c",
   "metadata": {},
   "outputs": [],
   "source": [
    "df = metro_traffic.copy()"
   ]
  },
  {
   "cell_type": "code",
   "execution_count": 11,
   "id": "83d49af8",
   "metadata": {},
   "outputs": [],
   "source": [
    "# change encoding for rain_1h \n",
    "def modify_rain_1h(x):\n",
    "    if x > 0 :\n",
    "        return 'Rained'\n",
    "    else:\n",
    "        return 'No_Rain'\n",
    "    \n",
    "df['rain_1h'] = df.rain_1h.map(modify_rain_1h)"
   ]
  },
  {
   "cell_type": "code",
   "execution_count": 12,
   "id": "72f242d3",
   "metadata": {},
   "outputs": [],
   "source": [
    "# change encoding for snow_1h\n",
    "\n",
    "def modify_snow_1h(x):\n",
    "    if x > 0 :\n",
    "        return 'Snowed'\n",
    "    else:\n",
    "        return 'No_Snow'\n",
    "    \n",
    "df['snow_1h'] = df.snow_1h.map(modify_snow_1h)"
   ]
  },
  {
   "cell_type": "code",
   "execution_count": 13,
   "id": "acba84fa",
   "metadata": {},
   "outputs": [],
   "source": [
    "# Different types of cloud cover conditions include SKC (sky clear), FEW (trace), SCT (scattered), BKN (broken) and OVC (overcast). \n",
    "\n",
    "def modify_cloud(x):\n",
    "    if x < 20:\n",
    "        return 'clear_sky'\n",
    "    elif x >= 20 & x <40:\n",
    "        return 'trace_sky'\n",
    "    elif x>=40 & x < 60:\n",
    "        return 'scattered_sky'\n",
    "    elif x>=60 & x<80:\n",
    "        return 'broken_sky'\n",
    "    else:\n",
    "        return 'overcast'\n",
    "df['clouds_all'] = df.clouds_all.map(modify_cloud)"
   ]
  },
  {
   "cell_type": "code",
   "execution_count": 14,
   "id": "659e8bce",
   "metadata": {},
   "outputs": [
    {
     "data": {
      "text/html": [
       "<div>\n",
       "<style scoped>\n",
       "    .dataframe tbody tr th:only-of-type {\n",
       "        vertical-align: middle;\n",
       "    }\n",
       "\n",
       "    .dataframe tbody tr th {\n",
       "        vertical-align: top;\n",
       "    }\n",
       "\n",
       "    .dataframe thead th {\n",
       "        text-align: right;\n",
       "    }\n",
       "</style>\n",
       "<table border=\"1\" class=\"dataframe\">\n",
       "  <thead>\n",
       "    <tr style=\"text-align: right;\">\n",
       "      <th></th>\n",
       "      <th>date_time</th>\n",
       "      <th>rain_1h</th>\n",
       "      <th>snow_1h</th>\n",
       "      <th>temp</th>\n",
       "      <th>clouds_all</th>\n",
       "      <th>traffic_volume</th>\n",
       "    </tr>\n",
       "  </thead>\n",
       "  <tbody>\n",
       "    <tr>\n",
       "      <th>0</th>\n",
       "      <td>2015-07-01 00:00:00</td>\n",
       "      <td>No_Rain</td>\n",
       "      <td>No_Snow</td>\n",
       "      <td>16.05</td>\n",
       "      <td>clear_sky</td>\n",
       "      <td>737</td>\n",
       "    </tr>\n",
       "    <tr>\n",
       "      <th>1</th>\n",
       "      <td>2015-07-01 01:00:00</td>\n",
       "      <td>No_Rain</td>\n",
       "      <td>No_Snow</td>\n",
       "      <td>16.25</td>\n",
       "      <td>clear_sky</td>\n",
       "      <td>444</td>\n",
       "    </tr>\n",
       "    <tr>\n",
       "      <th>2</th>\n",
       "      <td>2015-07-01 02:00:00</td>\n",
       "      <td>No_Rain</td>\n",
       "      <td>No_Snow</td>\n",
       "      <td>16.04</td>\n",
       "      <td>clear_sky</td>\n",
       "      <td>347</td>\n",
       "    </tr>\n",
       "    <tr>\n",
       "      <th>3</th>\n",
       "      <td>2015-07-01 03:00:00</td>\n",
       "      <td>Rained</td>\n",
       "      <td>No_Snow</td>\n",
       "      <td>15.59</td>\n",
       "      <td>clear_sky</td>\n",
       "      <td>356</td>\n",
       "    </tr>\n",
       "    <tr>\n",
       "      <th>4</th>\n",
       "      <td>2015-07-01 04:00:00</td>\n",
       "      <td>No_Rain</td>\n",
       "      <td>No_Snow</td>\n",
       "      <td>14.92</td>\n",
       "      <td>clear_sky</td>\n",
       "      <td>936</td>\n",
       "    </tr>\n",
       "  </tbody>\n",
       "</table>\n",
       "</div>"
      ],
      "text/plain": [
       "             date_time  rain_1h  snow_1h   temp clouds_all  traffic_volume\n",
       "0  2015-07-01 00:00:00  No_Rain  No_Snow  16.05  clear_sky             737\n",
       "1  2015-07-01 01:00:00  No_Rain  No_Snow  16.25  clear_sky             444\n",
       "2  2015-07-01 02:00:00  No_Rain  No_Snow  16.04  clear_sky             347\n",
       "3  2015-07-01 03:00:00   Rained  No_Snow  15.59  clear_sky             356\n",
       "4  2015-07-01 04:00:00  No_Rain  No_Snow  14.92  clear_sky             936"
      ]
     },
     "execution_count": 14,
     "metadata": {},
     "output_type": "execute_result"
    }
   ],
   "source": [
    "df.head()"
   ]
  },
  {
   "cell_type": "code",
   "execution_count": 15,
   "id": "266ca7e6",
   "metadata": {},
   "outputs": [
    {
     "data": {
      "text/plain": [
       "date_time          object\n",
       "rain_1h            object\n",
       "snow_1h            object\n",
       "temp              float64\n",
       "clouds_all         object\n",
       "traffic_volume      int64\n",
       "dtype: object"
      ]
     },
     "execution_count": 15,
     "metadata": {},
     "output_type": "execute_result"
    }
   ],
   "source": [
    "df.dtypes"
   ]
  },
  {
   "cell_type": "code",
   "execution_count": 16,
   "id": "6690b082",
   "metadata": {},
   "outputs": [
    {
     "data": {
      "image/png": "[encoded data removed]",
      "text/plain": [
       "<Figure size 432x288 with 2 Axes>"
      ]
     },
     "metadata": {
      "needs_background": "light"
     },
     "output_type": "display_data"
    }
   ],
   "source": [
    "corrMatrix = round(df.corr(), 2)\n",
    "sns.heatmap(corrMatrix, annot=True)\n",
    "plt.show()\n",
    "# focusing on the numeric columns we can see that clouds_all has a  weak negative correlation with the target column traffic_volume while temp has a positive correlation to the target column ( this is also a weak positive correlation )"
   ]
  },
  {
   "cell_type": "code",
   "execution_count": 17,
   "id": "dd7cde35",
   "metadata": {},
   "outputs": [
    {
     "data": {
      "text/plain": [
       "date_time         5\n",
       "rain_1h           5\n",
       "snow_1h           5\n",
       "temp              5\n",
       "clouds_all        5\n",
       "traffic_volume    5\n",
       "dtype: int64"
      ]
     },
     "execution_count": 17,
     "metadata": {},
     "output_type": "execute_result"
    }
   ],
   "source": [
    "# Working on the outliers for the Temp column\n",
    "attr = 'temp'\n",
    "quartile1 = df[attr].quantile(0.25)\n",
    "quartile3 = df[attr].quantile(0.75)\n",
    "interquantile_range = quartile3 - quartile1\n",
    "up_limit = quartile3 + 1.5 * interquantile_range\n",
    "low_limit = quartile1 - 1.5 * interquantile_range\n",
    "\n",
    "# df[df[attr] >= up_limit].count()\n",
    "df[df[attr] <= low_limit].count()"
   ]
  },
  {
   "cell_type": "code",
   "execution_count": 18,
   "id": "d5ff05ac",
   "metadata": {},
   "outputs": [
    {
     "data": {
      "text/plain": [
       "date_time         0\n",
       "rain_1h           0\n",
       "snow_1h           0\n",
       "temp              0\n",
       "clouds_all        0\n",
       "traffic_volume    0\n",
       "dtype: int64"
      ]
     },
     "execution_count": 18,
     "metadata": {},
     "output_type": "execute_result"
    }
   ],
   "source": [
    "# set these outliers to the  lower limit\n",
    "df.loc[(df[attr] < low_limit), attr] = low_limit\n",
    "df[df[attr] < low_limit].count()"
   ]
  },
  {
   "cell_type": "markdown",
   "id": "be6fb103",
   "metadata": {},
   "source": [
    "#####  Some Visuals to investigate the data further for periodicity: \n",
    "###### Producing some plots at different time-scales to see if there is periodicity in the traffic volume:"
   ]
  },
  {
   "cell_type": "code",
   "execution_count": 19,
   "id": "516ec9f2",
   "metadata": {},
   "outputs": [
    {
     "data": {
      "image/png": "[encoded data removed]",
      "text/plain": [
       "<Figure size 720x576 with 4 Axes>"
      ]
     },
     "metadata": {
      "needs_background": "light"
     },
     "output_type": "display_data"
    }
   ],
   "source": [
    "num_vars = ['temp', 'traffic_volume']\n",
    "scatter_matrix(df[num_vars],figsize=(10,8))\n",
    "plt.show()"
   ]
  },
  {
   "cell_type": "code",
   "execution_count": 20,
   "id": "8bc6bc6f",
   "metadata": {
    "scrolled": true
   },
   "outputs": [
    {
     "data": {
      "image/png": "[encoded data removed]",
      "text/plain": [
       "<Figure size 432x288 with 1 Axes>"
      ]
     },
     "metadata": {
      "needs_background": "light"
     },
     "output_type": "display_data"
    }
   ],
   "source": [
    "# # convert date_time column to datetime type\n",
    "df['date_time'] = pd.to_datetime(df['date_time'])\n",
    "df1 = df.copy()\n",
    "# Plot traffic volume by hour of the day\n",
    "df1.groupby(df1[\"date_time\"].dt.hour)[\"traffic_volume\"].mean().plot(kind='bar', rot=0)\n",
    "plt.xlabel(\"Hour of the day\");\n",
    "plt.ylabel(\"Traffic Volume\");\n",
    "plt.title(\"Traffic Volume by Hour\");"
   ]
  },
  {
   "cell_type": "code",
   "execution_count": 21,
   "id": "56ab02f3",
   "metadata": {
    "scrolled": true
   },
   "outputs": [
    {
     "data": {
      "image/png": "[encoded data removed]",
      "text/plain": [
       "<Figure size 432x288 with 1 Axes>"
      ]
     },
     "metadata": {
      "needs_background": "light"
     },
     "output_type": "display_data"
    }
   ],
   "source": [
    "#Plot traffic volume by day of the month\n",
    "df1.groupby(df1[\"date_time\"].dt.day_name())[\"traffic_volume\"].mean().plot(kind='bar')\n",
    "plt.xlabel(\"day\");\n",
    "plt.ylabel(\"Traffic Volume\");\n",
    "plt.title(\"Traffic Volume by Day\");"
   ]
  },
  {
   "cell_type": "code",
   "execution_count": 22,
   "id": "20a169b4",
   "metadata": {
    "scrolled": true
   },
   "outputs": [
    {
     "data": {
      "image/png": "[encoded data removed]",
      "text/plain": [
       "<Figure size 432x288 with 1 Axes>"
      ]
     },
     "metadata": {
      "needs_background": "light"
     },
     "output_type": "display_data"
    }
   ],
   "source": [
    "#Plot traffic volume by month\n",
    "df1.groupby(df1[\"date_time\"].dt.month_name())[\"traffic_volume\"].mean().plot()\n",
    "plt.xlabel(\"Month\");\n",
    "plt.ylabel(\"Traffic Volume\");\n",
    "plt.title(\"Traffic Volume by Month\");"
   ]
  },
  {
   "cell_type": "code",
   "execution_count": 23,
   "id": "08f9b1cc",
   "metadata": {
    "scrolled": false
   },
   "outputs": [
    {
     "data": {
      "image/png": "[encoded data removed]",
      "text/plain": [
       "<Figure size 432x288 with 1 Axes>"
      ]
     },
     "metadata": {
      "needs_background": "light"
     },
     "output_type": "display_data"
    }
   ],
   "source": [
    "#Plot traffic volume by year\n",
    "df1.groupby(df1[\"date_time\"].dt.year)[\"traffic_volume\"].mean().plot(kind='bar')\n",
    "plt.xlabel(\"Year\",);\n",
    "plt.ylabel(\"Traffic Volume\");\n",
    "plt.title(\"Traffic Volume by Year\");"
   ]
  },
  {
   "cell_type": "markdown",
   "id": "1ae26505",
   "metadata": {},
   "source": [
    "##### Focus on the timestamps to create features: \n",
    "###### Extract hour, day and month features from the time-stamps.  "
   ]
  },
  {
   "cell_type": "code",
   "execution_count": 24,
   "id": "9648ba8b",
   "metadata": {
    "scrolled": true
   },
   "outputs": [
    {
     "data": {
      "text/html": [
       "<div>\n",
       "<style scoped>\n",
       "    .dataframe tbody tr th:only-of-type {\n",
       "        vertical-align: middle;\n",
       "    }\n",
       "\n",
       "    .dataframe tbody tr th {\n",
       "        vertical-align: top;\n",
       "    }\n",
       "\n",
       "    .dataframe thead th {\n",
       "        text-align: right;\n",
       "    }\n",
       "</style>\n",
       "<table border=\"1\" class=\"dataframe\">\n",
       "  <thead>\n",
       "    <tr style=\"text-align: right;\">\n",
       "      <th></th>\n",
       "      <th>rain_1h</th>\n",
       "      <th>snow_1h</th>\n",
       "      <th>temp</th>\n",
       "      <th>clouds_all</th>\n",
       "      <th>traffic_volume</th>\n",
       "      <th>Month</th>\n",
       "      <th>Day_of_Week</th>\n",
       "      <th>Hour_of_Day</th>\n",
       "    </tr>\n",
       "    <tr>\n",
       "      <th>date_time</th>\n",
       "      <th></th>\n",
       "      <th></th>\n",
       "      <th></th>\n",
       "      <th></th>\n",
       "      <th></th>\n",
       "      <th></th>\n",
       "      <th></th>\n",
       "      <th></th>\n",
       "    </tr>\n",
       "  </thead>\n",
       "  <tbody>\n",
       "    <tr>\n",
       "      <th>2015-07-01 00:00:00</th>\n",
       "      <td>No_Rain</td>\n",
       "      <td>No_Snow</td>\n",
       "      <td>16.05</td>\n",
       "      <td>clear_sky</td>\n",
       "      <td>737</td>\n",
       "      <td>7</td>\n",
       "      <td>2</td>\n",
       "      <td>0</td>\n",
       "    </tr>\n",
       "    <tr>\n",
       "      <th>2015-07-01 01:00:00</th>\n",
       "      <td>No_Rain</td>\n",
       "      <td>No_Snow</td>\n",
       "      <td>16.25</td>\n",
       "      <td>clear_sky</td>\n",
       "      <td>444</td>\n",
       "      <td>7</td>\n",
       "      <td>2</td>\n",
       "      <td>1</td>\n",
       "    </tr>\n",
       "    <tr>\n",
       "      <th>2015-07-01 02:00:00</th>\n",
       "      <td>No_Rain</td>\n",
       "      <td>No_Snow</td>\n",
       "      <td>16.04</td>\n",
       "      <td>clear_sky</td>\n",
       "      <td>347</td>\n",
       "      <td>7</td>\n",
       "      <td>2</td>\n",
       "      <td>2</td>\n",
       "    </tr>\n",
       "    <tr>\n",
       "      <th>2015-07-01 03:00:00</th>\n",
       "      <td>Rained</td>\n",
       "      <td>No_Snow</td>\n",
       "      <td>15.59</td>\n",
       "      <td>clear_sky</td>\n",
       "      <td>356</td>\n",
       "      <td>7</td>\n",
       "      <td>2</td>\n",
       "      <td>3</td>\n",
       "    </tr>\n",
       "    <tr>\n",
       "      <th>2015-07-01 04:00:00</th>\n",
       "      <td>No_Rain</td>\n",
       "      <td>No_Snow</td>\n",
       "      <td>14.92</td>\n",
       "      <td>clear_sky</td>\n",
       "      <td>936</td>\n",
       "      <td>7</td>\n",
       "      <td>2</td>\n",
       "      <td>4</td>\n",
       "    </tr>\n",
       "  </tbody>\n",
       "</table>\n",
       "</div>"
      ],
      "text/plain": [
       "                     rain_1h  snow_1h   temp clouds_all  traffic_volume  \\\n",
       "date_time                                                                 \n",
       "2015-07-01 00:00:00  No_Rain  No_Snow  16.05  clear_sky             737   \n",
       "2015-07-01 01:00:00  No_Rain  No_Snow  16.25  clear_sky             444   \n",
       "2015-07-01 02:00:00  No_Rain  No_Snow  16.04  clear_sky             347   \n",
       "2015-07-01 03:00:00   Rained  No_Snow  15.59  clear_sky             356   \n",
       "2015-07-01 04:00:00  No_Rain  No_Snow  14.92  clear_sky             936   \n",
       "\n",
       "                     Month  Day_of_Week  Hour_of_Day  \n",
       "date_time                                             \n",
       "2015-07-01 00:00:00      7            2            0  \n",
       "2015-07-01 01:00:00      7            2            1  \n",
       "2015-07-01 02:00:00      7            2            2  \n",
       "2015-07-01 03:00:00      7            2            3  \n",
       "2015-07-01 04:00:00      7            2            4  "
      ]
     },
     "execution_count": 24,
     "metadata": {},
     "output_type": "execute_result"
    }
   ],
   "source": [
    "df1['Month'] = df1.date_time.dt.month\n",
    "df1['Day_of_Week'] = df1.date_time.dt.day_of_week\n",
    "df1['Hour_of_Day'] = df1.date_time.dt.hour\n",
    "\n",
    "#setting date as index\n",
    "df1.set_index('date_time', inplace = True)\n",
    "df1.head()"
   ]
  },
  {
   "cell_type": "code",
   "execution_count": 25,
   "id": "efd1dba9",
   "metadata": {
    "scrolled": false
   },
   "outputs": [
    {
     "data": {
      "image/png": "[encoded data removed]",
      "text/plain": [
       "<Figure size 720x576 with 1 Axes>"
      ]
     },
     "metadata": {
      "needs_background": "light"
     },
     "output_type": "display_data"
    }
   ],
   "source": [
    "df1[\"2015-07-20\":\"2015-07-22\"].plot(figsize=(10,8));\n",
    "plt.title('Traffic Volume against Time');\n",
    "\n",
    "#Below is a plot  of traffic volume over a three day period and we can see similar patterns with slight differences that occur usually around midday. "
   ]
  },
  {
   "cell_type": "markdown",
   "id": "453c860b",
   "metadata": {},
   "source": [
    "##### Employ the usual Train-test split approach: \n",
    "###### Dividing the data into train and test sets keeping one third of the data for testing."
   ]
  },
  {
   "cell_type": "code",
   "execution_count": 26,
   "id": "61f49ea7",
   "metadata": {
    "scrolled": true
   },
   "outputs": [
    {
     "data": {
      "text/html": [
       "<div>\n",
       "<style scoped>\n",
       "    .dataframe tbody tr th:only-of-type {\n",
       "        vertical-align: middle;\n",
       "    }\n",
       "\n",
       "    .dataframe tbody tr th {\n",
       "        vertical-align: top;\n",
       "    }\n",
       "\n",
       "    .dataframe thead th {\n",
       "        text-align: right;\n",
       "    }\n",
       "</style>\n",
       "<table border=\"1\" class=\"dataframe\">\n",
       "  <thead>\n",
       "    <tr style=\"text-align: right;\">\n",
       "      <th></th>\n",
       "      <th>rain_1h</th>\n",
       "      <th>snow_1h</th>\n",
       "      <th>temp</th>\n",
       "      <th>clouds_all</th>\n",
       "      <th>traffic_volume</th>\n",
       "      <th>Month</th>\n",
       "      <th>Day_of_Week</th>\n",
       "      <th>Hour_of_Day</th>\n",
       "    </tr>\n",
       "    <tr>\n",
       "      <th>date_time</th>\n",
       "      <th></th>\n",
       "      <th></th>\n",
       "      <th></th>\n",
       "      <th></th>\n",
       "      <th></th>\n",
       "      <th></th>\n",
       "      <th></th>\n",
       "      <th></th>\n",
       "    </tr>\n",
       "  </thead>\n",
       "  <tbody>\n",
       "    <tr>\n",
       "      <th>2015-07-01 00:00:00</th>\n",
       "      <td>No_Rain</td>\n",
       "      <td>No_Snow</td>\n",
       "      <td>16.05</td>\n",
       "      <td>clear_sky</td>\n",
       "      <td>737</td>\n",
       "      <td>7</td>\n",
       "      <td>2</td>\n",
       "      <td>0</td>\n",
       "    </tr>\n",
       "    <tr>\n",
       "      <th>2015-07-01 01:00:00</th>\n",
       "      <td>No_Rain</td>\n",
       "      <td>No_Snow</td>\n",
       "      <td>16.25</td>\n",
       "      <td>clear_sky</td>\n",
       "      <td>444</td>\n",
       "      <td>7</td>\n",
       "      <td>2</td>\n",
       "      <td>1</td>\n",
       "    </tr>\n",
       "    <tr>\n",
       "      <th>2015-07-01 02:00:00</th>\n",
       "      <td>No_Rain</td>\n",
       "      <td>No_Snow</td>\n",
       "      <td>16.04</td>\n",
       "      <td>clear_sky</td>\n",
       "      <td>347</td>\n",
       "      <td>7</td>\n",
       "      <td>2</td>\n",
       "      <td>2</td>\n",
       "    </tr>\n",
       "    <tr>\n",
       "      <th>2015-07-01 03:00:00</th>\n",
       "      <td>Rained</td>\n",
       "      <td>No_Snow</td>\n",
       "      <td>15.59</td>\n",
       "      <td>clear_sky</td>\n",
       "      <td>356</td>\n",
       "      <td>7</td>\n",
       "      <td>2</td>\n",
       "      <td>3</td>\n",
       "    </tr>\n",
       "    <tr>\n",
       "      <th>2015-07-01 04:00:00</th>\n",
       "      <td>No_Rain</td>\n",
       "      <td>No_Snow</td>\n",
       "      <td>14.92</td>\n",
       "      <td>clear_sky</td>\n",
       "      <td>936</td>\n",
       "      <td>7</td>\n",
       "      <td>2</td>\n",
       "      <td>4</td>\n",
       "    </tr>\n",
       "  </tbody>\n",
       "</table>\n",
       "</div>"
      ],
      "text/plain": [
       "                     rain_1h  snow_1h   temp clouds_all  traffic_volume  \\\n",
       "date_time                                                                 \n",
       "2015-07-01 00:00:00  No_Rain  No_Snow  16.05  clear_sky             737   \n",
       "2015-07-01 01:00:00  No_Rain  No_Snow  16.25  clear_sky             444   \n",
       "2015-07-01 02:00:00  No_Rain  No_Snow  16.04  clear_sky             347   \n",
       "2015-07-01 03:00:00   Rained  No_Snow  15.59  clear_sky             356   \n",
       "2015-07-01 04:00:00  No_Rain  No_Snow  14.92  clear_sky             936   \n",
       "\n",
       "                     Month  Day_of_Week  Hour_of_Day  \n",
       "date_time                                             \n",
       "2015-07-01 00:00:00      7            2            0  \n",
       "2015-07-01 01:00:00      7            2            1  \n",
       "2015-07-01 02:00:00      7            2            2  \n",
       "2015-07-01 03:00:00      7            2            3  \n",
       "2015-07-01 04:00:00      7            2            4  "
      ]
     },
     "execution_count": 26,
     "metadata": {},
     "output_type": "execute_result"
    }
   ],
   "source": [
    "df1.head()"
   ]
  },
  {
   "cell_type": "code",
   "execution_count": 27,
   "id": "6113b2e2",
   "metadata": {},
   "outputs": [],
   "source": [
    "y_name = \"traffic_volume\"\n",
    "y = df1[y_name]\n",
    "\n",
    "X = df1.drop(columns=[y_name])"
   ]
  },
  {
   "cell_type": "code",
   "execution_count": 28,
   "id": "567a4817",
   "metadata": {},
   "outputs": [],
   "source": [
    "#Split the data\n",
    "X_train, X_test, y_train, y_test = train_test_split(X, y, test_size=1/3,  random_state=42)"
   ]
  },
  {
   "cell_type": "markdown",
   "id": "e5d6744f",
   "metadata": {},
   "source": [
    "##### Interesting bit here!; The comparisons:\n",
    "###### Building two different regression models and test the accuracy. Try Linear Regression and one other regression model from scikit learn."
   ]
  },
  {
   "cell_type": "code",
   "execution_count": 29,
   "id": "fd8b4791",
   "metadata": {},
   "outputs": [],
   "source": [
    "numerical_columns_selector = selector(dtype_exclude=object)\n",
    "categorical_columns_selector = selector(dtype_include=object)\n",
    "\n",
    "numerical_columns = numerical_columns_selector(X)\n",
    "categorical_columns = categorical_columns_selector(X)\n",
    "\n",
    "categorical_preprocessor = OneHotEncoder(handle_unknown=\"ignore\")\n",
    "numerical_preprocessor = StandardScaler()\n",
    "\n",
    "preprocessor = ColumnTransformer([('one-hot-encoder', categorical_preprocessor, categorical_columns), ('standard_scaler', numerical_preprocessor, numerical_columns)])"
   ]
  },
  {
   "cell_type": "code",
   "execution_count": 30,
   "id": "98f0c655",
   "metadata": {},
   "outputs": [
    {
     "data": {
      "text/plain": [
       "Pipeline(steps=[('columntransformer',\n",
       "                 ColumnTransformer(transformers=[('one-hot-encoder',\n",
       "                                                  OneHotEncoder(handle_unknown='ignore'),\n",
       "                                                  ['rain_1h', 'snow_1h',\n",
       "                                                   'clouds_all']),\n",
       "                                                 ('standard_scaler',\n",
       "                                                  StandardScaler(),\n",
       "                                                  ['temp', 'Month',\n",
       "                                                   'Day_of_Week',\n",
       "                                                   'Hour_of_Day'])])),\n",
       "                ('linearregression', LinearRegression())])"
      ]
     },
     "execution_count": 30,
     "metadata": {},
     "output_type": "execute_result"
    }
   ],
   "source": [
    "reg_model = make_pipeline(preprocessor, LinearRegression())\n",
    "reg_model"
   ]
  },
  {
   "cell_type": "code",
   "execution_count": 31,
   "id": "1d95d7c6",
   "metadata": {},
   "outputs": [
    {
     "data": {
      "text/plain": [
       "0.16218269567889865"
      ]
     },
     "execution_count": 31,
     "metadata": {},
     "output_type": "execute_result"
    }
   ],
   "source": [
    "_regM = reg_model.fit(X_train, y_train)\n",
    "reg_model.predict(X_test)\n",
    "reg_model.score(X_test, y_test)"
   ]
  },
  {
   "cell_type": "code",
   "execution_count": 32,
   "id": "78d48a16",
   "metadata": {},
   "outputs": [
    {
     "data": {
      "text/plain": [
       "Pipeline(steps=[('columntransformer',\n",
       "                 ColumnTransformer(transformers=[('one-hot-encoder',\n",
       "                                                  OneHotEncoder(handle_unknown='ignore'),\n",
       "                                                  ['rain_1h', 'snow_1h',\n",
       "                                                   'clouds_all']),\n",
       "                                                 ('standard_scaler',\n",
       "                                                  StandardScaler(),\n",
       "                                                  ['temp', 'Month',\n",
       "                                                   'Day_of_Week',\n",
       "                                                   'Hour_of_Day'])])),\n",
       "                ('sgdregressor', SGDRegressor(max_iter=200))])"
      ]
     },
     "execution_count": 32,
     "metadata": {},
     "output_type": "execute_result"
    }
   ],
   "source": [
    "sgd_model = make_pipeline(preprocessor, SGDRegressor(max_iter=200, tol=1e-3))\n",
    "sgd_model"
   ]
  },
  {
   "cell_type": "code",
   "execution_count": 33,
   "id": "a6200bde",
   "metadata": {},
   "outputs": [
    {
     "data": {
      "text/plain": [
       "0.1614421447751503"
      ]
     },
     "execution_count": 33,
     "metadata": {},
     "output_type": "execute_result"
    }
   ],
   "source": [
    "_sgdM = sgd_model.fit(X_train, y_train)\n",
    "sgd_model.predict(X_test)\n",
    "sgd_model.score(X_test, y_test)"
   ]
  },
  {
   "cell_type": "markdown",
   "id": "c3d9a21a",
   "metadata": {},
   "source": [
    "##### Now we test:\n",
    "###### Given that the linear numeric encoding of the hour, day and month features may miss cyclical signals, investigate and test a cyclical strategy for encoding these features. Does this strategy improve accuracy for the models tested earlier?\n"
   ]
  },
  {
   "cell_type": "code",
   "execution_count": 34,
   "id": "4682d5b3",
   "metadata": {
    "scrolled": true
   },
   "outputs": [
    {
     "data": {
      "image/png": "[encoded data removed]",
      "text/plain": [
       "<Figure size 720x576 with 1 Axes>"
      ]
     },
     "metadata": {
      "needs_background": "light"
     },
     "output_type": "display_data"
    }
   ],
   "source": [
    "hour= df1[:168]['Hour_of_Day'].plot(figsize=(10,8))\n",
    "day =df1[:672]['Day_of_Week'].plot(figsize=(10,8))\n",
    "month = df1[:1500]['Month'].plot(figsize=(10,8))"
   ]
  },
  {
   "cell_type": "markdown",
   "id": "ad969782",
   "metadata": {},
   "source": [
    "###### From above we can see that the issues that arise with cyclical signals  for example with the hour graph (blue), there are jump discontinuities in the graph at the end of each day(when the hour value goes from  23  to  00)  and month with 31 to 1 and 12 to 1. The difference in time for example between records 10 and 11 is of course  1  hour. If we leave the hour feature unencoded, everything works in this case:  23−22=1 However, if we look at rows with 23 and 0 below we see the failure in our encoding:  0−23=−23 , even though the records are again only one hour apart. We need to change the encoding of the feature such that midnight and 11:00PM are the same distance apart as any other two hours.   "
   ]
  },
  {
   "cell_type": "code",
   "execution_count": 35,
   "id": "9600c45d",
   "metadata": {},
   "outputs": [
    {
     "data": {
      "text/html": [
       "<div>\n",
       "<style scoped>\n",
       "    .dataframe tbody tr th:only-of-type {\n",
       "        vertical-align: middle;\n",
       "    }\n",
       "\n",
       "    .dataframe tbody tr th {\n",
       "        vertical-align: top;\n",
       "    }\n",
       "\n",
       "    .dataframe thead th {\n",
       "        text-align: right;\n",
       "    }\n",
       "</style>\n",
       "<table border=\"1\" class=\"dataframe\">\n",
       "  <thead>\n",
       "    <tr style=\"text-align: right;\">\n",
       "      <th></th>\n",
       "      <th>rain_1h</th>\n",
       "      <th>snow_1h</th>\n",
       "      <th>temp</th>\n",
       "      <th>clouds_all</th>\n",
       "      <th>traffic_volume</th>\n",
       "      <th>Month</th>\n",
       "      <th>Day_of_Week</th>\n",
       "      <th>Hour_of_Day</th>\n",
       "    </tr>\n",
       "    <tr>\n",
       "      <th>date_time</th>\n",
       "      <th></th>\n",
       "      <th></th>\n",
       "      <th></th>\n",
       "      <th></th>\n",
       "      <th></th>\n",
       "      <th></th>\n",
       "      <th></th>\n",
       "      <th></th>\n",
       "    </tr>\n",
       "  </thead>\n",
       "  <tbody>\n",
       "    <tr>\n",
       "      <th>2015-07-01 22:00:00</th>\n",
       "      <td>No_Rain</td>\n",
       "      <td>No_Snow</td>\n",
       "      <td>16.52</td>\n",
       "      <td>clear_sky</td>\n",
       "      <td>2356</td>\n",
       "      <td>7</td>\n",
       "      <td>2</td>\n",
       "      <td>22</td>\n",
       "    </tr>\n",
       "    <tr>\n",
       "      <th>2015-07-01 23:00:00</th>\n",
       "      <td>No_Rain</td>\n",
       "      <td>No_Snow</td>\n",
       "      <td>14.95</td>\n",
       "      <td>clear_sky</td>\n",
       "      <td>2820</td>\n",
       "      <td>7</td>\n",
       "      <td>2</td>\n",
       "      <td>23</td>\n",
       "    </tr>\n",
       "    <tr>\n",
       "      <th>2015-07-02 00:00:00</th>\n",
       "      <td>No_Rain</td>\n",
       "      <td>No_Snow</td>\n",
       "      <td>14.21</td>\n",
       "      <td>clear_sky</td>\n",
       "      <td>1265</td>\n",
       "      <td>7</td>\n",
       "      <td>3</td>\n",
       "      <td>0</td>\n",
       "    </tr>\n",
       "    <tr>\n",
       "      <th>2015-07-02 01:00:00</th>\n",
       "      <td>No_Rain</td>\n",
       "      <td>No_Snow</td>\n",
       "      <td>13.32</td>\n",
       "      <td>clear_sky</td>\n",
       "      <td>566</td>\n",
       "      <td>7</td>\n",
       "      <td>3</td>\n",
       "      <td>1</td>\n",
       "    </tr>\n",
       "  </tbody>\n",
       "</table>\n",
       "</div>"
      ],
      "text/plain": [
       "                     rain_1h  snow_1h   temp clouds_all  traffic_volume  \\\n",
       "date_time                                                                 \n",
       "2015-07-01 22:00:00  No_Rain  No_Snow  16.52  clear_sky            2356   \n",
       "2015-07-01 23:00:00  No_Rain  No_Snow  14.95  clear_sky            2820   \n",
       "2015-07-02 00:00:00  No_Rain  No_Snow  14.21  clear_sky            1265   \n",
       "2015-07-02 01:00:00  No_Rain  No_Snow  13.32  clear_sky             566   \n",
       "\n",
       "                     Month  Day_of_Week  Hour_of_Day  \n",
       "date_time                                             \n",
       "2015-07-01 22:00:00      7            2           22  \n",
       "2015-07-01 23:00:00      7            2           23  \n",
       "2015-07-02 00:00:00      7            3            0  \n",
       "2015-07-02 01:00:00      7            3            1  "
      ]
     },
     "execution_count": 35,
     "metadata": {},
     "output_type": "execute_result"
    }
   ],
   "source": [
    "df1[:168][21:25]"
   ]
  },
  {
   "cell_type": "code",
   "execution_count": 36,
   "id": "9bf82792",
   "metadata": {},
   "outputs": [],
   "source": [
    "df1['hour_sin'] = np.sin(2 * np.pi * df1['Hour_of_Day']/24.0)\n",
    "df1['hour_cos'] = np.cos(2 * np.pi * df1['Hour_of_Day']/24.0)"
   ]
  },
  {
   "cell_type": "code",
   "execution_count": 37,
   "id": "6ed8602a",
   "metadata": {},
   "outputs": [],
   "source": [
    "def encode(df1, col, max_val):\n",
    "    df1[col + '_sin'] = np.sin(2 * np.pi * df1[col]/max_val)\n",
    "    df1[col + '_cos'] = np.cos(2 * np.pi * df1[col]/max_val)\n",
    "    return df1"
   ]
  },
  {
   "cell_type": "code",
   "execution_count": 38,
   "id": "b5667b1c",
   "metadata": {},
   "outputs": [],
   "source": [
    "df1= encode(df1, 'Month', 12)\n",
    "df1= encode(df1, 'Day_of_Week', 7)"
   ]
  },
  {
   "cell_type": "code",
   "execution_count": 39,
   "id": "2e38ece8",
   "metadata": {
    "scrolled": true
   },
   "outputs": [
    {
     "data": {
      "text/html": [
       "<div>\n",
       "<style scoped>\n",
       "    .dataframe tbody tr th:only-of-type {\n",
       "        vertical-align: middle;\n",
       "    }\n",
       "\n",
       "    .dataframe tbody tr th {\n",
       "        vertical-align: top;\n",
       "    }\n",
       "\n",
       "    .dataframe thead th {\n",
       "        text-align: right;\n",
       "    }\n",
       "</style>\n",
       "<table border=\"1\" class=\"dataframe\">\n",
       "  <thead>\n",
       "    <tr style=\"text-align: right;\">\n",
       "      <th></th>\n",
       "      <th>rain_1h</th>\n",
       "      <th>snow_1h</th>\n",
       "      <th>temp</th>\n",
       "      <th>clouds_all</th>\n",
       "      <th>traffic_volume</th>\n",
       "      <th>Month</th>\n",
       "      <th>Day_of_Week</th>\n",
       "      <th>Hour_of_Day</th>\n",
       "      <th>hour_sin</th>\n",
       "      <th>hour_cos</th>\n",
       "      <th>Month_sin</th>\n",
       "      <th>Month_cos</th>\n",
       "      <th>Day_of_Week_sin</th>\n",
       "      <th>Day_of_Week_cos</th>\n",
       "    </tr>\n",
       "    <tr>\n",
       "      <th>date_time</th>\n",
       "      <th></th>\n",
       "      <th></th>\n",
       "      <th></th>\n",
       "      <th></th>\n",
       "      <th></th>\n",
       "      <th></th>\n",
       "      <th></th>\n",
       "      <th></th>\n",
       "      <th></th>\n",
       "      <th></th>\n",
       "      <th></th>\n",
       "      <th></th>\n",
       "      <th></th>\n",
       "      <th></th>\n",
       "    </tr>\n",
       "  </thead>\n",
       "  <tbody>\n",
       "    <tr>\n",
       "      <th>2015-07-01 00:00:00</th>\n",
       "      <td>No_Rain</td>\n",
       "      <td>No_Snow</td>\n",
       "      <td>16.05</td>\n",
       "      <td>clear_sky</td>\n",
       "      <td>737</td>\n",
       "      <td>7</td>\n",
       "      <td>2</td>\n",
       "      <td>0</td>\n",
       "      <td>0.000000</td>\n",
       "      <td>1.000000</td>\n",
       "      <td>-0.5</td>\n",
       "      <td>-8.660254e-01</td>\n",
       "      <td>0.974928</td>\n",
       "      <td>-0.222521</td>\n",
       "    </tr>\n",
       "    <tr>\n",
       "      <th>2015-07-01 01:00:00</th>\n",
       "      <td>No_Rain</td>\n",
       "      <td>No_Snow</td>\n",
       "      <td>16.25</td>\n",
       "      <td>clear_sky</td>\n",
       "      <td>444</td>\n",
       "      <td>7</td>\n",
       "      <td>2</td>\n",
       "      <td>1</td>\n",
       "      <td>0.258819</td>\n",
       "      <td>0.965926</td>\n",
       "      <td>-0.5</td>\n",
       "      <td>-8.660254e-01</td>\n",
       "      <td>0.974928</td>\n",
       "      <td>-0.222521</td>\n",
       "    </tr>\n",
       "    <tr>\n",
       "      <th>2015-07-01 02:00:00</th>\n",
       "      <td>No_Rain</td>\n",
       "      <td>No_Snow</td>\n",
       "      <td>16.04</td>\n",
       "      <td>clear_sky</td>\n",
       "      <td>347</td>\n",
       "      <td>7</td>\n",
       "      <td>2</td>\n",
       "      <td>2</td>\n",
       "      <td>0.500000</td>\n",
       "      <td>0.866025</td>\n",
       "      <td>-0.5</td>\n",
       "      <td>-8.660254e-01</td>\n",
       "      <td>0.974928</td>\n",
       "      <td>-0.222521</td>\n",
       "    </tr>\n",
       "    <tr>\n",
       "      <th>2015-07-01 03:00:00</th>\n",
       "      <td>Rained</td>\n",
       "      <td>No_Snow</td>\n",
       "      <td>15.59</td>\n",
       "      <td>clear_sky</td>\n",
       "      <td>356</td>\n",
       "      <td>7</td>\n",
       "      <td>2</td>\n",
       "      <td>3</td>\n",
       "      <td>0.707107</td>\n",
       "      <td>0.707107</td>\n",
       "      <td>-0.5</td>\n",
       "      <td>-8.660254e-01</td>\n",
       "      <td>0.974928</td>\n",
       "      <td>-0.222521</td>\n",
       "    </tr>\n",
       "    <tr>\n",
       "      <th>2015-07-01 04:00:00</th>\n",
       "      <td>No_Rain</td>\n",
       "      <td>No_Snow</td>\n",
       "      <td>14.92</td>\n",
       "      <td>clear_sky</td>\n",
       "      <td>936</td>\n",
       "      <td>7</td>\n",
       "      <td>2</td>\n",
       "      <td>4</td>\n",
       "      <td>0.866025</td>\n",
       "      <td>0.500000</td>\n",
       "      <td>-0.5</td>\n",
       "      <td>-8.660254e-01</td>\n",
       "      <td>0.974928</td>\n",
       "      <td>-0.222521</td>\n",
       "    </tr>\n",
       "    <tr>\n",
       "      <th>...</th>\n",
       "      <td>...</td>\n",
       "      <td>...</td>\n",
       "      <td>...</td>\n",
       "      <td>...</td>\n",
       "      <td>...</td>\n",
       "      <td>...</td>\n",
       "      <td>...</td>\n",
       "      <td>...</td>\n",
       "      <td>...</td>\n",
       "      <td>...</td>\n",
       "      <td>...</td>\n",
       "      <td>...</td>\n",
       "      <td>...</td>\n",
       "      <td>...</td>\n",
       "    </tr>\n",
       "    <tr>\n",
       "      <th>2018-09-30 19:00:00</th>\n",
       "      <td>No_Rain</td>\n",
       "      <td>No_Snow</td>\n",
       "      <td>10.30</td>\n",
       "      <td>trace_sky</td>\n",
       "      <td>3543</td>\n",
       "      <td>9</td>\n",
       "      <td>6</td>\n",
       "      <td>19</td>\n",
       "      <td>-0.965926</td>\n",
       "      <td>0.258819</td>\n",
       "      <td>-1.0</td>\n",
       "      <td>-1.836970e-16</td>\n",
       "      <td>-0.781831</td>\n",
       "      <td>0.623490</td>\n",
       "    </tr>\n",
       "    <tr>\n",
       "      <th>2018-09-30 20:00:00</th>\n",
       "      <td>No_Rain</td>\n",
       "      <td>No_Snow</td>\n",
       "      <td>9.61</td>\n",
       "      <td>trace_sky</td>\n",
       "      <td>2781</td>\n",
       "      <td>9</td>\n",
       "      <td>6</td>\n",
       "      <td>20</td>\n",
       "      <td>-0.866025</td>\n",
       "      <td>0.500000</td>\n",
       "      <td>-1.0</td>\n",
       "      <td>-1.836970e-16</td>\n",
       "      <td>-0.781831</td>\n",
       "      <td>0.623490</td>\n",
       "    </tr>\n",
       "    <tr>\n",
       "      <th>2018-09-30 21:00:00</th>\n",
       "      <td>No_Rain</td>\n",
       "      <td>No_Snow</td>\n",
       "      <td>9.58</td>\n",
       "      <td>trace_sky</td>\n",
       "      <td>2159</td>\n",
       "      <td>9</td>\n",
       "      <td>6</td>\n",
       "      <td>21</td>\n",
       "      <td>-0.707107</td>\n",
       "      <td>0.707107</td>\n",
       "      <td>-1.0</td>\n",
       "      <td>-1.836970e-16</td>\n",
       "      <td>-0.781831</td>\n",
       "      <td>0.623490</td>\n",
       "    </tr>\n",
       "    <tr>\n",
       "      <th>2018-09-30 22:00:00</th>\n",
       "      <td>No_Rain</td>\n",
       "      <td>No_Snow</td>\n",
       "      <td>8.94</td>\n",
       "      <td>trace_sky</td>\n",
       "      <td>1450</td>\n",
       "      <td>9</td>\n",
       "      <td>6</td>\n",
       "      <td>22</td>\n",
       "      <td>-0.500000</td>\n",
       "      <td>0.866025</td>\n",
       "      <td>-1.0</td>\n",
       "      <td>-1.836970e-16</td>\n",
       "      <td>-0.781831</td>\n",
       "      <td>0.623490</td>\n",
       "    </tr>\n",
       "    <tr>\n",
       "      <th>2018-09-30 23:00:00</th>\n",
       "      <td>No_Rain</td>\n",
       "      <td>No_Snow</td>\n",
       "      <td>8.97</td>\n",
       "      <td>trace_sky</td>\n",
       "      <td>954</td>\n",
       "      <td>9</td>\n",
       "      <td>6</td>\n",
       "      <td>23</td>\n",
       "      <td>-0.258819</td>\n",
       "      <td>0.965926</td>\n",
       "      <td>-1.0</td>\n",
       "      <td>-1.836970e-16</td>\n",
       "      <td>-0.781831</td>\n",
       "      <td>0.623490</td>\n",
       "    </tr>\n",
       "  </tbody>\n",
       "</table>\n",
       "<p>32047 rows × 14 columns</p>\n",
       "</div>"
      ],
      "text/plain": [
       "                     rain_1h  snow_1h   temp clouds_all  traffic_volume  \\\n",
       "date_time                                                                 \n",
       "2015-07-01 00:00:00  No_Rain  No_Snow  16.05  clear_sky             737   \n",
       "2015-07-01 01:00:00  No_Rain  No_Snow  16.25  clear_sky             444   \n",
       "2015-07-01 02:00:00  No_Rain  No_Snow  16.04  clear_sky             347   \n",
       "2015-07-01 03:00:00   Rained  No_Snow  15.59  clear_sky             356   \n",
       "2015-07-01 04:00:00  No_Rain  No_Snow  14.92  clear_sky             936   \n",
       "...                      ...      ...    ...        ...             ...   \n",
       "2018-09-30 19:00:00  No_Rain  No_Snow  10.30  trace_sky            3543   \n",
       "2018-09-30 20:00:00  No_Rain  No_Snow   9.61  trace_sky            2781   \n",
       "2018-09-30 21:00:00  No_Rain  No_Snow   9.58  trace_sky            2159   \n",
       "2018-09-30 22:00:00  No_Rain  No_Snow   8.94  trace_sky            1450   \n",
       "2018-09-30 23:00:00  No_Rain  No_Snow   8.97  trace_sky             954   \n",
       "\n",
       "                     Month  Day_of_Week  Hour_of_Day  hour_sin  hour_cos  \\\n",
       "date_time                                                                  \n",
       "2015-07-01 00:00:00      7            2            0  0.000000  1.000000   \n",
       "2015-07-01 01:00:00      7            2            1  0.258819  0.965926   \n",
       "2015-07-01 02:00:00      7            2            2  0.500000  0.866025   \n",
       "2015-07-01 03:00:00      7            2            3  0.707107  0.707107   \n",
       "2015-07-01 04:00:00      7            2            4  0.866025  0.500000   \n",
       "...                    ...          ...          ...       ...       ...   \n",
       "2018-09-30 19:00:00      9            6           19 -0.965926  0.258819   \n",
       "2018-09-30 20:00:00      9            6           20 -0.866025  0.500000   \n",
       "2018-09-30 21:00:00      9            6           21 -0.707107  0.707107   \n",
       "2018-09-30 22:00:00      9            6           22 -0.500000  0.866025   \n",
       "2018-09-30 23:00:00      9            6           23 -0.258819  0.965926   \n",
       "\n",
       "                     Month_sin     Month_cos  Day_of_Week_sin  Day_of_Week_cos  \n",
       "date_time                                                                       \n",
       "2015-07-01 00:00:00       -0.5 -8.660254e-01         0.974928        -0.222521  \n",
       "2015-07-01 01:00:00       -0.5 -8.660254e-01         0.974928        -0.222521  \n",
       "2015-07-01 02:00:00       -0.5 -8.660254e-01         0.974928        -0.222521  \n",
       "2015-07-01 03:00:00       -0.5 -8.660254e-01         0.974928        -0.222521  \n",
       "2015-07-01 04:00:00       -0.5 -8.660254e-01         0.974928        -0.222521  \n",
       "...                        ...           ...              ...              ...  \n",
       "2018-09-30 19:00:00       -1.0 -1.836970e-16        -0.781831         0.623490  \n",
       "2018-09-30 20:00:00       -1.0 -1.836970e-16        -0.781831         0.623490  \n",
       "2018-09-30 21:00:00       -1.0 -1.836970e-16        -0.781831         0.623490  \n",
       "2018-09-30 22:00:00       -1.0 -1.836970e-16        -0.781831         0.623490  \n",
       "2018-09-30 23:00:00       -1.0 -1.836970e-16        -0.781831         0.623490  \n",
       "\n",
       "[32047 rows x 14 columns]"
      ]
     },
     "execution_count": 39,
     "metadata": {},
     "output_type": "execute_result"
    }
   ],
   "source": [
    "df1"
   ]
  },
  {
   "cell_type": "code",
   "execution_count": 40,
   "id": "c84d51c8",
   "metadata": {},
   "outputs": [
    {
     "data": {
      "image/png": "[encoded data removed]",
      "text/plain": [
       "<Figure size 432x288 with 1 Axes>"
      ]
     },
     "metadata": {
      "needs_background": "light"
     },
     "output_type": "display_data"
    },
    {
     "data": {
      "image/png": "[encoded data removed]",
      "text/plain": [
       "<Figure size 432x288 with 1 Axes>"
      ]
     },
     "metadata": {
      "needs_background": "light"
     },
     "output_type": "display_data"
    },
    {
     "data": {
      "image/png": "[encoded data removed]",
      "text/plain": [
       "<Figure size 432x288 with 1 Axes>"
      ]
     },
     "metadata": {
      "needs_background": "light"
     },
     "output_type": "display_data"
    }
   ],
   "source": [
    "df1.plot.scatter('hour_sin', 'hour_cos').set_aspect('equal')\n",
    "df1.plot.scatter('Month_sin', 'Month_cos').set_aspect('equal')\n",
    "df1.plot.scatter('Day_of_Week_sin', 'Day_of_Week_cos').set_aspect('equal')"
   ]
  },
  {
   "cell_type": "code",
   "execution_count": 41,
   "id": "18f154e1",
   "metadata": {},
   "outputs": [
    {
     "data": {
      "text/html": [
       "<div>\n",
       "<style scoped>\n",
       "    .dataframe tbody tr th:only-of-type {\n",
       "        vertical-align: middle;\n",
       "    }\n",
       "\n",
       "    .dataframe tbody tr th {\n",
       "        vertical-align: top;\n",
       "    }\n",
       "\n",
       "    .dataframe thead th {\n",
       "        text-align: right;\n",
       "    }\n",
       "</style>\n",
       "<table border=\"1\" class=\"dataframe\">\n",
       "  <thead>\n",
       "    <tr style=\"text-align: right;\">\n",
       "      <th></th>\n",
       "      <th>rain_1h</th>\n",
       "      <th>snow_1h</th>\n",
       "      <th>temp</th>\n",
       "      <th>clouds_all</th>\n",
       "      <th>traffic_volume</th>\n",
       "      <th>Month</th>\n",
       "      <th>Day_of_Week</th>\n",
       "      <th>Hour_of_Day</th>\n",
       "      <th>hour_sin</th>\n",
       "      <th>hour_cos</th>\n",
       "      <th>Month_sin</th>\n",
       "      <th>Month_cos</th>\n",
       "      <th>Day_of_Week_sin</th>\n",
       "      <th>Day_of_Week_cos</th>\n",
       "    </tr>\n",
       "    <tr>\n",
       "      <th>date_time</th>\n",
       "      <th></th>\n",
       "      <th></th>\n",
       "      <th></th>\n",
       "      <th></th>\n",
       "      <th></th>\n",
       "      <th></th>\n",
       "      <th></th>\n",
       "      <th></th>\n",
       "      <th></th>\n",
       "      <th></th>\n",
       "      <th></th>\n",
       "      <th></th>\n",
       "      <th></th>\n",
       "      <th></th>\n",
       "    </tr>\n",
       "  </thead>\n",
       "  <tbody>\n",
       "    <tr>\n",
       "      <th>2015-07-01 00:00:00</th>\n",
       "      <td>No_Rain</td>\n",
       "      <td>No_Snow</td>\n",
       "      <td>16.05</td>\n",
       "      <td>clear_sky</td>\n",
       "      <td>737</td>\n",
       "      <td>7</td>\n",
       "      <td>2</td>\n",
       "      <td>0</td>\n",
       "      <td>0.000000</td>\n",
       "      <td>1.000000</td>\n",
       "      <td>-0.5</td>\n",
       "      <td>-0.866025</td>\n",
       "      <td>0.974928</td>\n",
       "      <td>-0.222521</td>\n",
       "    </tr>\n",
       "    <tr>\n",
       "      <th>2015-07-01 01:00:00</th>\n",
       "      <td>No_Rain</td>\n",
       "      <td>No_Snow</td>\n",
       "      <td>16.25</td>\n",
       "      <td>clear_sky</td>\n",
       "      <td>444</td>\n",
       "      <td>7</td>\n",
       "      <td>2</td>\n",
       "      <td>1</td>\n",
       "      <td>0.258819</td>\n",
       "      <td>0.965926</td>\n",
       "      <td>-0.5</td>\n",
       "      <td>-0.866025</td>\n",
       "      <td>0.974928</td>\n",
       "      <td>-0.222521</td>\n",
       "    </tr>\n",
       "  </tbody>\n",
       "</table>\n",
       "</div>"
      ],
      "text/plain": [
       "                     rain_1h  snow_1h   temp clouds_all  traffic_volume  \\\n",
       "date_time                                                                 \n",
       "2015-07-01 00:00:00  No_Rain  No_Snow  16.05  clear_sky             737   \n",
       "2015-07-01 01:00:00  No_Rain  No_Snow  16.25  clear_sky             444   \n",
       "\n",
       "                     Month  Day_of_Week  Hour_of_Day  hour_sin  hour_cos  \\\n",
       "date_time                                                                  \n",
       "2015-07-01 00:00:00      7            2            0  0.000000  1.000000   \n",
       "2015-07-01 01:00:00      7            2            1  0.258819  0.965926   \n",
       "\n",
       "                     Month_sin  Month_cos  Day_of_Week_sin  Day_of_Week_cos  \n",
       "date_time                                                                    \n",
       "2015-07-01 00:00:00       -0.5  -0.866025         0.974928        -0.222521  \n",
       "2015-07-01 01:00:00       -0.5  -0.866025         0.974928        -0.222521  "
      ]
     },
     "execution_count": 41,
     "metadata": {},
     "output_type": "execute_result"
    }
   ],
   "source": [
    "df1.head(2)"
   ]
  },
  {
   "cell_type": "code",
   "execution_count": 42,
   "id": "c4a744f9",
   "metadata": {},
   "outputs": [],
   "source": [
    "df2 = df1[['rain_1h', 'snow_1h', 'temp', 'clouds_all', 'traffic_volume', 'hour_sin', 'hour_cos', 'Month_sin', 'Month_cos', 'Day_of_Week_sin', 'Day_of_Week_cos']].copy()"
   ]
  },
  {
   "cell_type": "code",
   "execution_count": 43,
   "id": "8f7f1577",
   "metadata": {},
   "outputs": [
    {
     "data": {
      "text/html": [
       "<div>\n",
       "<style scoped>\n",
       "    .dataframe tbody tr th:only-of-type {\n",
       "        vertical-align: middle;\n",
       "    }\n",
       "\n",
       "    .dataframe tbody tr th {\n",
       "        vertical-align: top;\n",
       "    }\n",
       "\n",
       "    .dataframe thead th {\n",
       "        text-align: right;\n",
       "    }\n",
       "</style>\n",
       "<table border=\"1\" class=\"dataframe\">\n",
       "  <thead>\n",
       "    <tr style=\"text-align: right;\">\n",
       "      <th></th>\n",
       "      <th>rain_1h</th>\n",
       "      <th>snow_1h</th>\n",
       "      <th>temp</th>\n",
       "      <th>clouds_all</th>\n",
       "      <th>traffic_volume</th>\n",
       "      <th>hour_sin</th>\n",
       "      <th>hour_cos</th>\n",
       "      <th>Month_sin</th>\n",
       "      <th>Month_cos</th>\n",
       "      <th>Day_of_Week_sin</th>\n",
       "      <th>Day_of_Week_cos</th>\n",
       "    </tr>\n",
       "    <tr>\n",
       "      <th>date_time</th>\n",
       "      <th></th>\n",
       "      <th></th>\n",
       "      <th></th>\n",
       "      <th></th>\n",
       "      <th></th>\n",
       "      <th></th>\n",
       "      <th></th>\n",
       "      <th></th>\n",
       "      <th></th>\n",
       "      <th></th>\n",
       "      <th></th>\n",
       "    </tr>\n",
       "  </thead>\n",
       "  <tbody>\n",
       "    <tr>\n",
       "      <th>2015-07-01 00:00:00</th>\n",
       "      <td>No_Rain</td>\n",
       "      <td>No_Snow</td>\n",
       "      <td>16.05</td>\n",
       "      <td>clear_sky</td>\n",
       "      <td>737</td>\n",
       "      <td>0.000000</td>\n",
       "      <td>1.000000</td>\n",
       "      <td>-0.5</td>\n",
       "      <td>-0.866025</td>\n",
       "      <td>0.974928</td>\n",
       "      <td>-0.222521</td>\n",
       "    </tr>\n",
       "    <tr>\n",
       "      <th>2015-07-01 01:00:00</th>\n",
       "      <td>No_Rain</td>\n",
       "      <td>No_Snow</td>\n",
       "      <td>16.25</td>\n",
       "      <td>clear_sky</td>\n",
       "      <td>444</td>\n",
       "      <td>0.258819</td>\n",
       "      <td>0.965926</td>\n",
       "      <td>-0.5</td>\n",
       "      <td>-0.866025</td>\n",
       "      <td>0.974928</td>\n",
       "      <td>-0.222521</td>\n",
       "    </tr>\n",
       "  </tbody>\n",
       "</table>\n",
       "</div>"
      ],
      "text/plain": [
       "                     rain_1h  snow_1h   temp clouds_all  traffic_volume  \\\n",
       "date_time                                                                 \n",
       "2015-07-01 00:00:00  No_Rain  No_Snow  16.05  clear_sky             737   \n",
       "2015-07-01 01:00:00  No_Rain  No_Snow  16.25  clear_sky             444   \n",
       "\n",
       "                     hour_sin  hour_cos  Month_sin  Month_cos  \\\n",
       "date_time                                                       \n",
       "2015-07-01 00:00:00  0.000000  1.000000       -0.5  -0.866025   \n",
       "2015-07-01 01:00:00  0.258819  0.965926       -0.5  -0.866025   \n",
       "\n",
       "                     Day_of_Week_sin  Day_of_Week_cos  \n",
       "date_time                                              \n",
       "2015-07-01 00:00:00         0.974928        -0.222521  \n",
       "2015-07-01 01:00:00         0.974928        -0.222521  "
      ]
     },
     "execution_count": 43,
     "metadata": {},
     "output_type": "execute_result"
    }
   ],
   "source": [
    "df2.head(2)"
   ]
  },
  {
   "cell_type": "code",
   "execution_count": 44,
   "id": "2f27d907",
   "metadata": {},
   "outputs": [],
   "source": [
    "y_name = \"traffic_volume\"\n",
    "y = df2[y_name]\n",
    "\n",
    "X = df2.drop(columns=[y_name])"
   ]
  },
  {
   "cell_type": "code",
   "execution_count": 45,
   "id": "0d844725",
   "metadata": {},
   "outputs": [],
   "source": [
    "#Split the data\n",
    "X_train, X_test, y_train, y_test = train_test_split(X, y, test_size=1/3,  random_state=42)"
   ]
  },
  {
   "cell_type": "code",
   "execution_count": 46,
   "id": "d6eb2aaa",
   "metadata": {},
   "outputs": [],
   "source": [
    "numerical_columns_selector = selector(dtype_exclude=object)\n",
    "categorical_columns_selector = selector(dtype_include=object)\n",
    "\n",
    "numerical_columns = numerical_columns_selector(X)\n",
    "categorical_columns = categorical_columns_selector(X)\n",
    "\n",
    "categorical_preprocessor = OneHotEncoder(handle_unknown=\"ignore\")\n",
    "numerical_preprocessor = StandardScaler()\n",
    "\n",
    "preprocessor = ColumnTransformer([('one-hot-encoder', categorical_preprocessor, categorical_columns), ('standard_scaler', numerical_preprocessor, numerical_columns)])"
   ]
  },
  {
   "cell_type": "code",
   "execution_count": 47,
   "id": "78039366",
   "metadata": {},
   "outputs": [
    {
     "data": {
      "text/plain": [
       "Pipeline(steps=[('columntransformer',\n",
       "                 ColumnTransformer(transformers=[('one-hot-encoder',\n",
       "                                                  OneHotEncoder(handle_unknown='ignore'),\n",
       "                                                  ['rain_1h', 'snow_1h',\n",
       "                                                   'clouds_all']),\n",
       "                                                 ('standard_scaler',\n",
       "                                                  StandardScaler(),\n",
       "                                                  ['temp', 'hour_sin',\n",
       "                                                   'hour_cos', 'Month_sin',\n",
       "                                                   'Month_cos',\n",
       "                                                   'Day_of_Week_sin',\n",
       "                                                   'Day_of_Week_cos'])])),\n",
       "                ('linearregression', LinearRegression())])"
      ]
     },
     "execution_count": 47,
     "metadata": {},
     "output_type": "execute_result"
    }
   ],
   "source": [
    "reg_model = make_pipeline(preprocessor, LinearRegression())\n",
    "reg_model"
   ]
  },
  {
   "cell_type": "code",
   "execution_count": 48,
   "id": "cd069e8b",
   "metadata": {},
   "outputs": [
    {
     "data": {
      "text/plain": [
       "0.6853110318574205"
      ]
     },
     "execution_count": 48,
     "metadata": {},
     "output_type": "execute_result"
    }
   ],
   "source": [
    "_regM = reg_model.fit(X_train, y_train)\n",
    "reg_model.predict(X_test)\n",
    "reg_model.score(X_test, y_test)"
   ]
  },
  {
   "cell_type": "code",
   "execution_count": 49,
   "id": "3f0d95b3",
   "metadata": {},
   "outputs": [
    {
     "data": {
      "text/plain": [
       "Pipeline(steps=[('columntransformer',\n",
       "                 ColumnTransformer(transformers=[('one-hot-encoder',\n",
       "                                                  OneHotEncoder(handle_unknown='ignore'),\n",
       "                                                  ['rain_1h', 'snow_1h',\n",
       "                                                   'clouds_all']),\n",
       "                                                 ('standard_scaler',\n",
       "                                                  StandardScaler(),\n",
       "                                                  ['temp', 'hour_sin',\n",
       "                                                   'hour_cos', 'Month_sin',\n",
       "                                                   'Month_cos',\n",
       "                                                   'Day_of_Week_sin',\n",
       "                                                   'Day_of_Week_cos'])])),\n",
       "                ('sgdregressor', SGDRegressor(max_iter=200))])"
      ]
     },
     "execution_count": 49,
     "metadata": {},
     "output_type": "execute_result"
    }
   ],
   "source": [
    "sgd_model = make_pipeline(preprocessor, SGDRegressor(max_iter=200, tol=1e-3))\n",
    "sgd_model"
   ]
  },
  {
   "cell_type": "code",
   "execution_count": 50,
   "id": "2261dc05",
   "metadata": {},
   "outputs": [
    {
     "data": {
      "text/plain": [
       "0.6852183478477507"
      ]
     },
     "execution_count": 50,
     "metadata": {},
     "output_type": "execute_result"
    }
   ],
   "source": [
    "_sgdM = sgd_model.fit(X_train, y_train)\n",
    "y_pred = sgd_model.predict(X_test)\n",
    "sgd_model.score(X_test, y_test)"
   ]
  },
  {
   "cell_type": "markdown",
   "id": "91b0079e",
   "metadata": {},
   "source": [
    "###### This encoding approach for cyclical features has improved the prediction accuracy of both regression models from as low as 0.16 accuracy from linear regression and 0.15 SGDRegressor to 0.68 for both models.\n",
    "\n",
    "##### Also noted at this point is both Regression models employed hereat this point are very close in regards to their score. "
   ]
  },
  {
   "cell_type": "markdown",
   "id": "9aa2dafa",
   "metadata": {},
   "source": [
    "##### Focusing on Model specific subsets:\n",
    "##### Identifing effective subsets of the features for this prediction task. These can be the same subset for all models or model-specific subsets. "
   ]
  },
  {
   "cell_type": "code",
   "execution_count": 51,
   "id": "adaca7fb",
   "metadata": {},
   "outputs": [
    {
     "data": {
      "text/plain": [
       "rain_1h             object\n",
       "snow_1h             object\n",
       "temp               float64\n",
       "clouds_all          object\n",
       "traffic_volume       int64\n",
       "hour_sin           float64\n",
       "hour_cos           float64\n",
       "Month_sin          float64\n",
       "Month_cos          float64\n",
       "Day_of_Week_sin    float64\n",
       "Day_of_Week_cos    float64\n",
       "dtype: object"
      ]
     },
     "execution_count": 51,
     "metadata": {},
     "output_type": "execute_result"
    }
   ],
   "source": [
    "df2.dtypes"
   ]
  },
  {
   "cell_type": "code",
   "execution_count": 52,
   "id": "87bcd4ad",
   "metadata": {},
   "outputs": [],
   "source": [
    "dfN = df2.select_dtypes(include=np.number)"
   ]
  },
  {
   "cell_type": "code",
   "execution_count": 53,
   "id": "71c9e6b2",
   "metadata": {},
   "outputs": [
    {
     "data": {
      "text/html": [
       "<div>\n",
       "<style scoped>\n",
       "    .dataframe tbody tr th:only-of-type {\n",
       "        vertical-align: middle;\n",
       "    }\n",
       "\n",
       "    .dataframe tbody tr th {\n",
       "        vertical-align: top;\n",
       "    }\n",
       "\n",
       "    .dataframe thead th {\n",
       "        text-align: right;\n",
       "    }\n",
       "</style>\n",
       "<table border=\"1\" class=\"dataframe\">\n",
       "  <thead>\n",
       "    <tr style=\"text-align: right;\">\n",
       "      <th></th>\n",
       "      <th>temp</th>\n",
       "      <th>traffic_volume</th>\n",
       "      <th>hour_sin</th>\n",
       "      <th>hour_cos</th>\n",
       "      <th>Month_sin</th>\n",
       "      <th>Month_cos</th>\n",
       "      <th>Day_of_Week_sin</th>\n",
       "      <th>Day_of_Week_cos</th>\n",
       "    </tr>\n",
       "    <tr>\n",
       "      <th>date_time</th>\n",
       "      <th></th>\n",
       "      <th></th>\n",
       "      <th></th>\n",
       "      <th></th>\n",
       "      <th></th>\n",
       "      <th></th>\n",
       "      <th></th>\n",
       "      <th></th>\n",
       "    </tr>\n",
       "  </thead>\n",
       "  <tbody>\n",
       "    <tr>\n",
       "      <th>2015-07-01 00:00:00</th>\n",
       "      <td>16.05</td>\n",
       "      <td>737</td>\n",
       "      <td>0.000000</td>\n",
       "      <td>1.000000</td>\n",
       "      <td>-0.5</td>\n",
       "      <td>-8.660254e-01</td>\n",
       "      <td>0.974928</td>\n",
       "      <td>-0.222521</td>\n",
       "    </tr>\n",
       "    <tr>\n",
       "      <th>2015-07-01 01:00:00</th>\n",
       "      <td>16.25</td>\n",
       "      <td>444</td>\n",
       "      <td>0.258819</td>\n",
       "      <td>0.965926</td>\n",
       "      <td>-0.5</td>\n",
       "      <td>-8.660254e-01</td>\n",
       "      <td>0.974928</td>\n",
       "      <td>-0.222521</td>\n",
       "    </tr>\n",
       "    <tr>\n",
       "      <th>2015-07-01 02:00:00</th>\n",
       "      <td>16.04</td>\n",
       "      <td>347</td>\n",
       "      <td>0.500000</td>\n",
       "      <td>0.866025</td>\n",
       "      <td>-0.5</td>\n",
       "      <td>-8.660254e-01</td>\n",
       "      <td>0.974928</td>\n",
       "      <td>-0.222521</td>\n",
       "    </tr>\n",
       "    <tr>\n",
       "      <th>2015-07-01 03:00:00</th>\n",
       "      <td>15.59</td>\n",
       "      <td>356</td>\n",
       "      <td>0.707107</td>\n",
       "      <td>0.707107</td>\n",
       "      <td>-0.5</td>\n",
       "      <td>-8.660254e-01</td>\n",
       "      <td>0.974928</td>\n",
       "      <td>-0.222521</td>\n",
       "    </tr>\n",
       "    <tr>\n",
       "      <th>2015-07-01 04:00:00</th>\n",
       "      <td>14.92</td>\n",
       "      <td>936</td>\n",
       "      <td>0.866025</td>\n",
       "      <td>0.500000</td>\n",
       "      <td>-0.5</td>\n",
       "      <td>-8.660254e-01</td>\n",
       "      <td>0.974928</td>\n",
       "      <td>-0.222521</td>\n",
       "    </tr>\n",
       "    <tr>\n",
       "      <th>...</th>\n",
       "      <td>...</td>\n",
       "      <td>...</td>\n",
       "      <td>...</td>\n",
       "      <td>...</td>\n",
       "      <td>...</td>\n",
       "      <td>...</td>\n",
       "      <td>...</td>\n",
       "      <td>...</td>\n",
       "    </tr>\n",
       "    <tr>\n",
       "      <th>2018-09-30 19:00:00</th>\n",
       "      <td>10.30</td>\n",
       "      <td>3543</td>\n",
       "      <td>-0.965926</td>\n",
       "      <td>0.258819</td>\n",
       "      <td>-1.0</td>\n",
       "      <td>-1.836970e-16</td>\n",
       "      <td>-0.781831</td>\n",
       "      <td>0.623490</td>\n",
       "    </tr>\n",
       "    <tr>\n",
       "      <th>2018-09-30 20:00:00</th>\n",
       "      <td>9.61</td>\n",
       "      <td>2781</td>\n",
       "      <td>-0.866025</td>\n",
       "      <td>0.500000</td>\n",
       "      <td>-1.0</td>\n",
       "      <td>-1.836970e-16</td>\n",
       "      <td>-0.781831</td>\n",
       "      <td>0.623490</td>\n",
       "    </tr>\n",
       "    <tr>\n",
       "      <th>2018-09-30 21:00:00</th>\n",
       "      <td>9.58</td>\n",
       "      <td>2159</td>\n",
       "      <td>-0.707107</td>\n",
       "      <td>0.707107</td>\n",
       "      <td>-1.0</td>\n",
       "      <td>-1.836970e-16</td>\n",
       "      <td>-0.781831</td>\n",
       "      <td>0.623490</td>\n",
       "    </tr>\n",
       "    <tr>\n",
       "      <th>2018-09-30 22:00:00</th>\n",
       "      <td>8.94</td>\n",
       "      <td>1450</td>\n",
       "      <td>-0.500000</td>\n",
       "      <td>0.866025</td>\n",
       "      <td>-1.0</td>\n",
       "      <td>-1.836970e-16</td>\n",
       "      <td>-0.781831</td>\n",
       "      <td>0.623490</td>\n",
       "    </tr>\n",
       "    <tr>\n",
       "      <th>2018-09-30 23:00:00</th>\n",
       "      <td>8.97</td>\n",
       "      <td>954</td>\n",
       "      <td>-0.258819</td>\n",
       "      <td>0.965926</td>\n",
       "      <td>-1.0</td>\n",
       "      <td>-1.836970e-16</td>\n",
       "      <td>-0.781831</td>\n",
       "      <td>0.623490</td>\n",
       "    </tr>\n",
       "  </tbody>\n",
       "</table>\n",
       "<p>32047 rows × 8 columns</p>\n",
       "</div>"
      ],
      "text/plain": [
       "                      temp  traffic_volume  hour_sin  hour_cos  Month_sin  \\\n",
       "date_time                                                                   \n",
       "2015-07-01 00:00:00  16.05             737  0.000000  1.000000       -0.5   \n",
       "2015-07-01 01:00:00  16.25             444  0.258819  0.965926       -0.5   \n",
       "2015-07-01 02:00:00  16.04             347  0.500000  0.866025       -0.5   \n",
       "2015-07-01 03:00:00  15.59             356  0.707107  0.707107       -0.5   \n",
       "2015-07-01 04:00:00  14.92             936  0.866025  0.500000       -0.5   \n",
       "...                    ...             ...       ...       ...        ...   \n",
       "2018-09-30 19:00:00  10.30            3543 -0.965926  0.258819       -1.0   \n",
       "2018-09-30 20:00:00   9.61            2781 -0.866025  0.500000       -1.0   \n",
       "2018-09-30 21:00:00   9.58            2159 -0.707107  0.707107       -1.0   \n",
       "2018-09-30 22:00:00   8.94            1450 -0.500000  0.866025       -1.0   \n",
       "2018-09-30 23:00:00   8.97             954 -0.258819  0.965926       -1.0   \n",
       "\n",
       "                        Month_cos  Day_of_Week_sin  Day_of_Week_cos  \n",
       "date_time                                                            \n",
       "2015-07-01 00:00:00 -8.660254e-01         0.974928        -0.222521  \n",
       "2015-07-01 01:00:00 -8.660254e-01         0.974928        -0.222521  \n",
       "2015-07-01 02:00:00 -8.660254e-01         0.974928        -0.222521  \n",
       "2015-07-01 03:00:00 -8.660254e-01         0.974928        -0.222521  \n",
       "2015-07-01 04:00:00 -8.660254e-01         0.974928        -0.222521  \n",
       "...                           ...              ...              ...  \n",
       "2018-09-30 19:00:00 -1.836970e-16        -0.781831         0.623490  \n",
       "2018-09-30 20:00:00 -1.836970e-16        -0.781831         0.623490  \n",
       "2018-09-30 21:00:00 -1.836970e-16        -0.781831         0.623490  \n",
       "2018-09-30 22:00:00 -1.836970e-16        -0.781831         0.623490  \n",
       "2018-09-30 23:00:00 -1.836970e-16        -0.781831         0.623490  \n",
       "\n",
       "[32047 rows x 8 columns]"
      ]
     },
     "execution_count": 53,
     "metadata": {},
     "output_type": "execute_result"
    }
   ],
   "source": [
    "dfN"
   ]
  },
  {
   "cell_type": "code",
   "execution_count": 54,
   "id": "bfee4fd5",
   "metadata": {},
   "outputs": [],
   "source": [
    "import matplotlib.pyplot as plt\n",
    "from sklearn.model_selection import train_test_split\n",
    "\n",
    "X = dfN[['temp', 'hour_sin', 'hour_cos', 'Month_sin', 'Month_cos', 'Day_of_Week_sin', 'Day_of_Week_cos']].values\n",
    "y = dfN.pop('traffic_volume').values\n",
    "X_train, X_test, y_train, y_test = train_test_split(X, y, test_size=1/3, random_state=42)"
   ]
  },
  {
   "cell_type": "code",
   "execution_count": 55,
   "id": "4b460753",
   "metadata": {},
   "outputs": [
    {
     "name": "stdout",
     "output_type": "stream",
     "text": [
      "(32047, 4)\n"
     ]
    }
   ],
   "source": [
    "# pearson's correlation approach\n",
    "from sklearn.feature_selection import SelectKBest, chi2\n",
    "from sklearn.feature_selection import f_regression\n",
    "\n",
    "fs = SelectKBest(score_func=f_regression,  k=4)\n",
    "\n",
    "X_sel = fs.fit_transform(X, y)\n",
    "print(X_sel.shape)"
   ]
  },
  {
   "cell_type": "code",
   "execution_count": 56,
   "id": "5d6a4dec",
   "metadata": {},
   "outputs": [
    {
     "data": {
      "text/plain": [
       "array([[16.05      ,  0.        ,  1.        ,  0.97492791],\n",
       "       [16.25      ,  0.25881905,  0.96592583,  0.97492791],\n",
       "       [16.04      ,  0.5       ,  0.8660254 ,  0.97492791],\n",
       "       ...,\n",
       "       [ 9.58      , -0.70710678,  0.70710678, -0.78183148],\n",
       "       [ 8.94      , -0.5       ,  0.8660254 , -0.78183148],\n",
       "       [ 8.97      , -0.25881905,  0.96592583, -0.78183148]])"
      ]
     },
     "execution_count": 56,
     "metadata": {},
     "output_type": "execute_result"
    }
   ],
   "source": [
    "X_sel"
   ]
  },
  {
   "cell_type": "code",
   "execution_count": 7,
   "id": "e16737da",
   "metadata": {},
   "outputs": [
    {
     "data": {
      "text/html": [
       "<div>\n",
       "<style scoped>\n",
       "    .dataframe tbody tr th:only-of-type {\n",
       "        vertical-align: middle;\n",
       "    }\n",
       "\n",
       "    .dataframe tbody tr th {\n",
       "        vertical-align: top;\n",
       "    }\n",
       "\n",
       "    .dataframe thead th {\n",
       "        text-align: right;\n",
       "    }\n",
       "</style>\n",
       "<table border=\"1\" class=\"dataframe\">\n",
       "  <thead>\n",
       "    <tr style=\"text-align: right;\">\n",
       "      <th></th>\n",
       "      <th>date_time</th>\n",
       "      <th>rain_1h</th>\n",
       "      <th>snow_1h</th>\n",
       "      <th>temp</th>\n",
       "      <th>clouds_all</th>\n",
       "      <th>traffic_volume</th>\n",
       "    </tr>\n",
       "  </thead>\n",
       "  <tbody>\n",
       "    <tr>\n",
       "      <th>0</th>\n",
       "      <td>2015-07-01 00:00:00</td>\n",
       "      <td>0.0</td>\n",
       "      <td>0.0</td>\n",
       "      <td>289.20</td>\n",
       "      <td>1</td>\n",
       "      <td>737</td>\n",
       "    </tr>\n",
       "    <tr>\n",
       "      <th>1</th>\n",
       "      <td>2015-07-01 01:00:00</td>\n",
       "      <td>0.0</td>\n",
       "      <td>0.0</td>\n",
       "      <td>289.40</td>\n",
       "      <td>1</td>\n",
       "      <td>444</td>\n",
       "    </tr>\n",
       "    <tr>\n",
       "      <th>2</th>\n",
       "      <td>2015-07-01 02:00:00</td>\n",
       "      <td>0.0</td>\n",
       "      <td>0.0</td>\n",
       "      <td>289.19</td>\n",
       "      <td>1</td>\n",
       "      <td>347</td>\n",
       "    </tr>\n",
       "    <tr>\n",
       "      <th>3</th>\n",
       "      <td>2015-07-01 03:00:00</td>\n",
       "      <td>0.3</td>\n",
       "      <td>0.0</td>\n",
       "      <td>288.74</td>\n",
       "      <td>1</td>\n",
       "      <td>356</td>\n",
       "    </tr>\n",
       "    <tr>\n",
       "      <th>4</th>\n",
       "      <td>2015-07-01 04:00:00</td>\n",
       "      <td>0.0</td>\n",
       "      <td>0.0</td>\n",
       "      <td>288.07</td>\n",
       "      <td>1</td>\n",
       "      <td>936</td>\n",
       "    </tr>\n",
       "    <tr>\n",
       "      <th>...</th>\n",
       "      <td>...</td>\n",
       "      <td>...</td>\n",
       "      <td>...</td>\n",
       "      <td>...</td>\n",
       "      <td>...</td>\n",
       "      <td>...</td>\n",
       "    </tr>\n",
       "    <tr>\n",
       "      <th>32042</th>\n",
       "      <td>2018-09-30 19:00:00</td>\n",
       "      <td>0.0</td>\n",
       "      <td>0.0</td>\n",
       "      <td>283.45</td>\n",
       "      <td>75</td>\n",
       "      <td>3543</td>\n",
       "    </tr>\n",
       "    <tr>\n",
       "      <th>32043</th>\n",
       "      <td>2018-09-30 20:00:00</td>\n",
       "      <td>0.0</td>\n",
       "      <td>0.0</td>\n",
       "      <td>282.76</td>\n",
       "      <td>90</td>\n",
       "      <td>2781</td>\n",
       "    </tr>\n",
       "    <tr>\n",
       "      <th>32044</th>\n",
       "      <td>2018-09-30 21:00:00</td>\n",
       "      <td>0.0</td>\n",
       "      <td>0.0</td>\n",
       "      <td>282.73</td>\n",
       "      <td>90</td>\n",
       "      <td>2159</td>\n",
       "    </tr>\n",
       "    <tr>\n",
       "      <th>32045</th>\n",
       "      <td>2018-09-30 22:00:00</td>\n",
       "      <td>0.0</td>\n",
       "      <td>0.0</td>\n",
       "      <td>282.09</td>\n",
       "      <td>90</td>\n",
       "      <td>1450</td>\n",
       "    </tr>\n",
       "    <tr>\n",
       "      <th>32046</th>\n",
       "      <td>2018-09-30 23:00:00</td>\n",
       "      <td>0.0</td>\n",
       "      <td>0.0</td>\n",
       "      <td>282.12</td>\n",
       "      <td>90</td>\n",
       "      <td>954</td>\n",
       "    </tr>\n",
       "  </tbody>\n",
       "</table>\n",
       "<p>32047 rows × 6 columns</p>\n",
       "</div>"
      ],
      "text/plain": [
       "                 date_time  rain_1h  snow_1h    temp  clouds_all  \\\n",
       "0      2015-07-01 00:00:00      0.0      0.0  289.20           1   \n",
       "1      2015-07-01 01:00:00      0.0      0.0  289.40           1   \n",
       "2      2015-07-01 02:00:00      0.0      0.0  289.19           1   \n",
       "3      2015-07-01 03:00:00      0.3      0.0  288.74           1   \n",
       "4      2015-07-01 04:00:00      0.0      0.0  288.07           1   \n",
       "...                    ...      ...      ...     ...         ...   \n",
       "32042  2018-09-30 19:00:00      0.0      0.0  283.45          75   \n",
       "32043  2018-09-30 20:00:00      0.0      0.0  282.76          90   \n",
       "32044  2018-09-30 21:00:00      0.0      0.0  282.73          90   \n",
       "32045  2018-09-30 22:00:00      0.0      0.0  282.09          90   \n",
       "32046  2018-09-30 23:00:00      0.0      0.0  282.12          90   \n",
       "\n",
       "       traffic_volume  \n",
       "0                 737  \n",
       "1                 444  \n",
       "2                 347  \n",
       "3                 356  \n",
       "4                 936  \n",
       "...               ...  \n",
       "32042            3543  \n",
       "32043            2781  \n",
       "32044            2159  \n",
       "32045            1450  \n",
       "32046             954  \n",
       "\n",
       "[32047 rows x 6 columns]"
      ]
     },
     "execution_count": 7,
     "metadata": {},
     "output_type": "execute_result"
    }
   ],
   "source": [
    "metro_traffic"
   ]
  },
  {
   "cell_type": "code",
   "execution_count": 8,
   "id": "041d9367",
   "metadata": {},
   "outputs": [],
   "source": [
    "metro_traffic_small = metro_traffic.iloc[0:100]"
   ]
  },
  {
   "cell_type": "code",
   "execution_count": 12,
   "id": "672f67da",
   "metadata": {},
   "outputs": [],
   "source": [
    "X = metro_traffic_small.iloc[:,1:4]\n",
    "y = metro_traffic_small.iloc[:,5]"
   ]
  },
  {
   "cell_type": "code",
   "execution_count": 14,
   "id": "7368b2e1",
   "metadata": {},
   "outputs": [
    {
     "data": {
      "text/plain": [
       "0      737\n",
       "1      444\n",
       "2      347\n",
       "3      356\n",
       "4      936\n",
       "      ... \n",
       "95    3011\n",
       "96    3156\n",
       "97    3267\n",
       "98    3198\n",
       "99    3080\n",
       "Name: traffic_volume, Length: 100, dtype: int64"
      ]
     },
     "execution_count": 14,
     "metadata": {},
     "output_type": "execute_result"
    }
   ],
   "source": [
    "y"
   ]
  },
  {
   "cell_type": "code",
   "execution_count": 17,
   "id": "2f5862e5",
   "metadata": {},
   "outputs": [
    {
     "data": {
      "text/plain": [
       "RandomForestClassifier(random_state=0)"
      ]
     },
     "execution_count": 17,
     "metadata": {},
     "output_type": "execute_result"
    }
   ],
   "source": [
    "from sklearn.ensemble import RandomForestClassifier\n",
    "forest = RandomForestClassifier(random_state=0)\n",
    "forest.fit(X, y)"
   ]
  },
  {
   "cell_type": "raw",
   "id": "36bac11e",
   "metadata": {},
   "source": [
    "X"
   ]
  },
  {
   "cell_type": "code",
   "execution_count": 20,
   "id": "780dd859",
   "metadata": {},
   "outputs": [
    {
     "data": {
      "text/html": [
       "<div>\n",
       "<style scoped>\n",
       "    .dataframe tbody tr th:only-of-type {\n",
       "        vertical-align: middle;\n",
       "    }\n",
       "\n",
       "    .dataframe tbody tr th {\n",
       "        vertical-align: top;\n",
       "    }\n",
       "\n",
       "    .dataframe thead th {\n",
       "        text-align: right;\n",
       "    }\n",
       "</style>\n",
       "<table border=\"1\" class=\"dataframe\">\n",
       "  <thead>\n",
       "    <tr style=\"text-align: right;\">\n",
       "      <th></th>\n",
       "      <th>rain_1h</th>\n",
       "      <th>snow_1h</th>\n",
       "      <th>temp</th>\n",
       "    </tr>\n",
       "  </thead>\n",
       "  <tbody>\n",
       "    <tr>\n",
       "      <th>0</th>\n",
       "      <td>0.0</td>\n",
       "      <td>0.0</td>\n",
       "      <td>289.20</td>\n",
       "    </tr>\n",
       "    <tr>\n",
       "      <th>1</th>\n",
       "      <td>0.0</td>\n",
       "      <td>0.0</td>\n",
       "      <td>289.40</td>\n",
       "    </tr>\n",
       "    <tr>\n",
       "      <th>2</th>\n",
       "      <td>0.0</td>\n",
       "      <td>0.0</td>\n",
       "      <td>289.19</td>\n",
       "    </tr>\n",
       "    <tr>\n",
       "      <th>3</th>\n",
       "      <td>0.3</td>\n",
       "      <td>0.0</td>\n",
       "      <td>288.74</td>\n",
       "    </tr>\n",
       "    <tr>\n",
       "      <th>4</th>\n",
       "      <td>0.0</td>\n",
       "      <td>0.0</td>\n",
       "      <td>288.07</td>\n",
       "    </tr>\n",
       "    <tr>\n",
       "      <th>...</th>\n",
       "      <td>...</td>\n",
       "      <td>...</td>\n",
       "      <td>...</td>\n",
       "    </tr>\n",
       "    <tr>\n",
       "      <th>95</th>\n",
       "      <td>0.0</td>\n",
       "      <td>0.0</td>\n",
       "      <td>298.44</td>\n",
       "    </tr>\n",
       "    <tr>\n",
       "      <th>96</th>\n",
       "      <td>0.0</td>\n",
       "      <td>0.0</td>\n",
       "      <td>299.10</td>\n",
       "    </tr>\n",
       "    <tr>\n",
       "      <th>97</th>\n",
       "      <td>0.0</td>\n",
       "      <td>0.0</td>\n",
       "      <td>300.28</td>\n",
       "    </tr>\n",
       "    <tr>\n",
       "      <th>98</th>\n",
       "      <td>0.0</td>\n",
       "      <td>0.0</td>\n",
       "      <td>300.90</td>\n",
       "    </tr>\n",
       "    <tr>\n",
       "      <th>99</th>\n",
       "      <td>0.0</td>\n",
       "      <td>0.0</td>\n",
       "      <td>301.83</td>\n",
       "    </tr>\n",
       "  </tbody>\n",
       "</table>\n",
       "<p>100 rows × 3 columns</p>\n",
       "</div>"
      ],
      "text/plain": [
       "    rain_1h  snow_1h    temp\n",
       "0       0.0      0.0  289.20\n",
       "1       0.0      0.0  289.40\n",
       "2       0.0      0.0  289.19\n",
       "3       0.3      0.0  288.74\n",
       "4       0.0      0.0  288.07\n",
       "..      ...      ...     ...\n",
       "95      0.0      0.0  298.44\n",
       "96      0.0      0.0  299.10\n",
       "97      0.0      0.0  300.28\n",
       "98      0.0      0.0  300.90\n",
       "99      0.0      0.0  301.83\n",
       "\n",
       "[100 rows x 3 columns]"
      ]
     },
     "execution_count": 20,
     "metadata": {},
     "output_type": "execute_result"
    }
   ],
   "source": [
    "X"
   ]
  },
  {
   "cell_type": "code",
   "execution_count": 18,
   "id": "502a87b4",
   "metadata": {},
   "outputs": [],
   "source": [
    "importances = forest.feature_importances_"
   ]
  },
  {
   "cell_type": "code",
   "execution_count": 19,
   "id": "1e262436",
   "metadata": {},
   "outputs": [
    {
     "data": {
      "text/plain": [
       "array([0.0096461, 0.       , 0.9903539])"
      ]
     },
     "execution_count": 19,
     "metadata": {},
     "output_type": "execute_result"
    }
   ],
   "source": [
    "importances"
   ]
  },
  {
   "cell_type": "markdown",
   "id": "68ecd282",
   "metadata": {},
   "source": [
    "#### Focusing on the numeric columns, and setting the required number of columns to 3 (k=3) we can see that the best selection for the numeric columns is hour_sin, hour_cos and Day_of_week_sin( if we extend k to 4 features we get temp as the 4th ranked numerical column)"
   ]
  }
 ],
 "metadata": {
  "kernelspec": {
   "display_name": "Python 3 (ipykernel)",
   "language": "python",
   "name": "python3"
  },
  "language_info": {
   "codemirror_mode": {
    "name": "ipython",
    "version": 3
   },
   "file_extension": ".py",
   "mimetype": "text/x-python",
   "name": "python",
   "nbconvert_exporter": "python",
   "pygments_lexer": "ipython3",
   "version": "3.9.13"
  }
 },
 "nbformat": 4,
 "nbformat_minor": 5
}
